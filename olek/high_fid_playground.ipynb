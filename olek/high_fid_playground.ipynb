{
 "cells": [
  {
   "cell_type": "code",
   "execution_count": 8,
   "metadata": {},
   "outputs": [],
   "source": [
    "from metadrive.envs.metadrive_env import MetaDriveEnv\n",
    "from utils.scenario_runner import ScenarioRunner\n",
    "from pathlib import Path\n",
    "import numpy as np"
   ]
  },
  {
   "cell_type": "code",
   "execution_count": 9,
   "metadata": {},
   "outputs": [
    {
     "data": {
      "text/plain": [
       "0.006666666666666666"
      ]
     },
     "execution_count": 9,
     "metadata": {},
     "output_type": "execute_result"
    }
   ],
   "source": [
    "def get_dt(fps):\n",
    "    # Assume default value\n",
    "    DECISION_REPEAT = 5\n",
    "    interval = 1 / fps\n",
    "    dt = interval / DECISION_REPEAT\n",
    "    return dt\n",
    "\n",
    "\n",
    "get_dt(30)"
   ]
  },
  {
   "cell_type": "code",
   "execution_count": 10,
   "metadata": {},
   "outputs": [
    {
     "data": {
      "text/plain": [
       "PosixPath('/media/olek/2TB_HDD/metadrive-data/sandbox')"
      ]
     },
     "execution_count": 10,
     "metadata": {},
     "output_type": "execute_result"
    }
   ],
   "source": [
    "import shutil\n",
    "\n",
    "SAVE_DIR = Path(\"/media/olek/2TB_HDD/metadrive-data/sandbox\")\n",
    "\n",
    "# Remove all files in the directory\n",
    "shutil.rmtree(SAVE_DIR)\n",
    "\n",
    "SAVE_DIR"
   ]
  },
  {
   "cell_type": "code",
   "execution_count": 11,
   "metadata": {},
   "outputs": [],
   "source": [
    "seed = 0\n",
    "FPS = 60\n",
    "\n",
    "dt = get_dt(FPS)\n",
    "sr = ScenarioRunner(SAVE_DIR, seed, dt=dt)"
   ]
  },
  {
   "cell_type": "code",
   "execution_count": 12,
   "metadata": {},
   "outputs": [
    {
     "data": {
      "text/plain": [
       "{'log_level': 20,\n",
       " 'start_seed': 0,\n",
       " 'traffic_density': 0.1,\n",
       " 'traffic_mode': 'respawn',\n",
       " 'random_traffic': False,\n",
       " 'map_config': {'type': 'block_num', 'config': 5},\n",
       " 'out_of_route_done': False,\n",
       " 'on_continuous_line_done': False,\n",
       " 'crash_vehicle_done': False,\n",
       " 'crash_object_done': False,\n",
       " 'crash_human_done': False,\n",
       " 'decision_repeat': 5,\n",
       " 'physics_world_step_size': 0.003333333333333333}"
      ]
     },
     "execution_count": 12,
     "metadata": {},
     "output_type": "execute_result"
    }
   ],
   "source": [
    "config = sr.get_config()\n",
    "config"
   ]
  },
  {
   "cell_type": "code",
   "execution_count": 13,
   "metadata": {},
   "outputs": [
    {
     "name": "stderr",
     "output_type": "stream",
     "text": [
      "\u001b[38;20m[INFO] Environment: MetaDriveEnv\u001b[0m\n",
      "\u001b[38;20m[INFO] MetaDrive version: 0.4.2.3\u001b[0m\n",
      "\u001b[38;20m[INFO] Sensors: [lidar: Lidar(), side_detector: SideDetector(), lane_line_detector: LaneLineDetector()]\u001b[0m\n",
      "\u001b[38;20m[INFO] Render Mode: none\u001b[0m\n",
      "\u001b[38;20m[INFO] Horizon (Max steps per agent): None\u001b[0m\n",
      "\u001b[38;20m[INFO] Assets version: 0.4.2.3\u001b[0m\n",
      "\u001b[38;20m[INFO] Known Pipes: glxGraphicsPipe\u001b[0m\n",
      "\u001b[38;20m[INFO] Start Scenario Index: 0, Num Scenarios : 1\u001b[0m\n"
     ]
    }
   ],
   "source": [
    "env = MetaDriveEnv(config)\n",
    "_, reset_info = env.reset()"
   ]
  },
  {
   "cell_type": "code",
   "execution_count": null,
   "metadata": {},
   "outputs": [],
   "source": [
    "from metadrive.examples.ppo_expert.numpy_expert import expert\n",
    "\n",
    "for i in range(500):\n",
    "    action = expert(env.agent, deterministic=True)\n",
    "    obs, reward, terminated, truncated, info = env.step(action)\n",
    "\n",
    "    env.render(\n",
    "        mode=\"topdown\",\n",
    "        window=True,\n",
    "        screen_size=(1000, 1000),\n",
    "        # show_agent_name=True,\n",
    "        # semantic_map=True,\n",
    "        draw_contour=False,\n",
    "        num_stack=1,\n",
    "    )\n",
    "\n",
    "\n",
    "# env.top_down_renderer.generate_gif()\n",
    "env.close()"
   ]
  }
 ],
 "metadata": {
  "kernelspec": {
   "display_name": "metadrive-datascience",
   "language": "python",
   "name": "python3"
  },
  "language_info": {
   "codemirror_mode": {
    "name": "ipython",
    "version": 3
   },
   "file_extension": ".py",
   "mimetype": "text/x-python",
   "name": "python",
   "nbconvert_exporter": "python",
   "pygments_lexer": "ipython3",
   "version": "3.10.14"
  }
 },
 "nbformat": 4,
 "nbformat_minor": 2
}
