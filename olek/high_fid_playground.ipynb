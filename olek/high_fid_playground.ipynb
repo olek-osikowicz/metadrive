{
 "cells": [
  {
   "cell_type": "code",
   "execution_count": 1,
   "metadata": {},
   "outputs": [],
   "source": [
    "from metadrive.envs.metadrive_env import MetaDriveEnv\n",
    "from utils.scenario_runner import ScenarioRunner\n",
    "from pathlib import Path\n",
    "import numpy as np"
   ]
  },
  {
   "cell_type": "code",
   "execution_count": 2,
   "metadata": {},
   "outputs": [
    {
     "data": {
      "text/plain": [
       "0.006666666666666666"
      ]
     },
     "execution_count": 2,
     "metadata": {},
     "output_type": "execute_result"
    }
   ],
   "source": [
    "def get_dt(fps):\n",
    "    # Assume default value\n",
    "    DECISION_REPEAT = 5\n",
    "    interval = 1 / fps\n",
    "    dt = interval / DECISION_REPEAT\n",
    "    return dt\n",
    "\n",
    "\n",
    "get_dt(30)"
   ]
  },
  {
   "cell_type": "code",
   "execution_count": 3,
   "metadata": {},
   "outputs": [],
   "source": [
    "SAVE_DIR = Path(\"/media/olek/2TB_HDD/metadrive-data/sandbox\")"
   ]
  },
  {
   "cell_type": "code",
   "execution_count": 4,
   "metadata": {},
   "outputs": [
    {
     "name": "stderr",
     "output_type": "stream",
     "text": [
      "\u001b[38;20m[INFO] Environment: MetaDriveEnv\u001b[0m\n",
      "\u001b[38;20m[INFO] MetaDrive version: 0.4.2.3\u001b[0m\n",
      "\u001b[38;20m[INFO] Sensors: [lidar: Lidar(), side_detector: SideDetector(), lane_line_detector: LaneLineDetector()]\u001b[0m\n",
      "\u001b[38;20m[INFO] Render Mode: none\u001b[0m\n",
      "\u001b[38;20m[INFO] Horizon (Max steps per agent): None\u001b[0m\n",
      "\u001b[38;20m[INFO] Assets version: 0.4.2.3\u001b[0m\n",
      "\u001b[38;20m[INFO] Known Pipes: glxGraphicsPipe\u001b[0m\n",
      "\u001b[38;20m[INFO] Start Scenario Index: 0, Num Scenarios : 1\u001b[0m\n"
     ]
    }
   ],
   "source": [
    "seed = 0\n",
    "FPS = 60\n",
    "\n",
    "dt = get_dt(FPS)\n",
    "sr = ScenarioRunner(SAVE_DIR, seed, dt=dt)\n",
    "\n",
    "env = MetaDriveEnv(config=sr.get_config())\n",
    "_, reset_info = env.reset()"
   ]
  },
  {
   "cell_type": "code",
   "execution_count": 33,
   "metadata": {},
   "outputs": [],
   "source": [
    "from metadrive.examples.ppo_expert.numpy_expert import expert\n",
    "\n",
    "\n",
    "action = expert(env.agent, deterministic=True)\n",
    "obs, reward, terminated, truncated, info = env.step(action)"
   ]
  },
  {
   "cell_type": "code",
   "execution_count": 35,
   "metadata": {},
   "outputs": [
    {
     "data": {
      "text/plain": [
       "'{\"navigation_command\": \"forward\", \"navigation_forward\": true, \"navigation_left\": false, \"navigation_right\": false, \"overtake_vehicle_num\": 0, \"velocity\": 0.6382159993715163, \"steering\": -0.11324820667505264, \"acceleration\": 1.0, \"step_energy\": 0.0003333486314078067, \"episode_energy\": 0.0023356600369475395, \"policy\": \"EnvInputPolicy\", \"action\": [-0.11324820667505264, 1.0], \"raw_action\": [-0.11324820667505264, 1.0], \"crash_vehicle\": false, \"crash_object\": false, \"crash_building\": false, \"crash_human\": false, \"crash_sidewalk\": false, \"out_of_road\": false, \"arrive_dest\": false, \"max_step\": false, \"env_seed\": 0, \"crash\": false, \"step_reward\": 0.012885552319437448, \"route_completion\": 0.007535720517044892, \"cost\": 0, \"episode_reward\": 0.09202958937293529, \"episode_length\": 14}'"
      ]
     },
     "execution_count": 35,
     "metadata": {},
     "output_type": "execute_result"
    }
   ],
   "source": [
    "from abc import ABCMeta\n",
    "import json\n",
    "\n",
    "\n",
    "class MetaDriveJSONEncoder(json.JSONEncoder):\n",
    "    def default(self, obj):\n",
    "        if isinstance(obj, np.float32):\n",
    "            return float(obj)\n",
    "        if isinstance(obj, np.ndarray):\n",
    "            return obj.tolist()\n",
    "        if isinstance(obj, type):\n",
    "            return obj.__name__\n",
    "        return super().default(obj)\n",
    "\n",
    "\n",
    "def get_bv_state(env) -> dict:\n",
    "    vehicles = env.agent_manager.get_objects()\n",
    "\n",
    "    bv_state = {k: v.get_state() for k, v in vehicles.items() if k != env.agent.id}\n",
    "\n",
    "    return bv_state\n",
    "\n",
    "\n",
    "step_info = {}\n",
    "\n",
    "step_info[\"bv_state\"] = get_bv_state(env)\n",
    "# Serialize bv_state\n",
    "step_info[\"bv_state\"]\n",
    "\n",
    "json.dumps(info, cls=MetaDriveJSONEncoder)"
   ]
  }
 ],
 "metadata": {
  "kernelspec": {
   "display_name": "metadrive-datascience",
   "language": "python",
   "name": "python3"
  },
  "language_info": {
   "codemirror_mode": {
    "name": "ipython",
    "version": 3
   },
   "file_extension": ".py",
   "mimetype": "text/x-python",
   "name": "python",
   "nbconvert_exporter": "python",
   "pygments_lexer": "ipython3",
   "version": "3.10.14"
  }
 },
 "nbformat": 4,
 "nbformat_minor": 2
}
