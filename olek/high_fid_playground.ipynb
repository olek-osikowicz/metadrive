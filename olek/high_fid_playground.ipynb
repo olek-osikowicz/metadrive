{
 "cells": [
  {
   "cell_type": "code",
   "execution_count": 1,
   "metadata": {},
   "outputs": [],
   "source": [
    "from metadrive.envs.metadrive_env import MetaDriveEnv\n",
    "from utils.scenario_runner import ScenarioRunner\n",
    "from pathlib import Path\n",
    "import numpy as np"
   ]
  },
  {
   "cell_type": "code",
   "execution_count": 2,
   "metadata": {},
   "outputs": [
    {
     "data": {
      "text/plain": [
       "0.006666666666666666"
      ]
     },
     "execution_count": 2,
     "metadata": {},
     "output_type": "execute_result"
    }
   ],
   "source": [
    "def get_dt(fps):\n",
    "    # Assume default value\n",
    "    DECISION_REPEAT = 5\n",
    "    interval = 1 / fps\n",
    "    dt = interval / DECISION_REPEAT\n",
    "    return dt\n",
    "\n",
    "\n",
    "get_dt(30)"
   ]
  },
  {
   "cell_type": "code",
   "execution_count": 3,
   "metadata": {},
   "outputs": [],
   "source": [
    "SAVE_DIR = Path(\"/media/olek/2TB_HDD/metadrive-data/playground\")"
   ]
  },
  {
   "cell_type": "code",
   "execution_count": 4,
   "metadata": {},
   "outputs": [
    {
     "name": "stderr",
     "output_type": "stream",
     "text": [
      "\u001b[38;20m[INFO] self.fps = 10\u001b[0m\n",
      "\u001b[38;20m[INFO] Environment: MetaDriveEnv\u001b[0m\n",
      "\u001b[38;20m[INFO] MetaDrive version: 0.4.2.3\u001b[0m\n",
      "\u001b[38;20m[INFO] Sensors: [lidar: Lidar(), side_detector: SideDetector(), lane_line_detector: LaneLineDetector()]\u001b[0m\n",
      "\u001b[38;20m[INFO] Render Mode: none\u001b[0m\n",
      "\u001b[38;20m[INFO] Horizon (Max steps per agent): None\u001b[0m\n",
      "\u001b[38;20m[INFO] Assets version: 0.4.2.3\u001b[0m\n",
      "\u001b[38;20m[INFO] Known Pipes: glxGraphicsPipe\u001b[0m\n",
      "\u001b[38;20m[INFO] Start Scenario Index: 0, Num Scenarios : 1\u001b[0m\n",
      "\u001b[38;20m[INFO] Calculating max steps with: \u001b[0m\n",
      "\u001b[38;20m[INFO] V_min = 2.0, self.decision_repeat = 5, self.dt = 0.02, distance = 672.88, round(max_steps) = 3364\u001b[0m\n",
      "\u001b[38;20m[INFO] Launching the scenario with record = True\u001b[0m\n",
      "\u001b[38;20m[INFO] Use Torch PPO expert.\u001b[0m\n",
      "\u001b[38;20m[INFO] Episode ended! Scenario Index: 0 Reason: arrive_dest.\u001b[0m\n",
      "\u001b[38;20m[INFO] Saving gif to /media/olek/2TB_HDD/metadrive-data/playground/10/0.mp4\u001b[0m\n",
      "\u001b[38;20m[INFO] Initializing the env took 0.33s\u001b[0m\n",
      "\u001b[38;20m[INFO] Running the scenario took 4.14s\u001b[0m\n",
      "\u001b[38;20m[INFO] Closing the env took 0.13s\u001b[0m\n",
      "\u001b[38;20m[INFO] Total scenario execution took 4.60s\u001b[0m\n",
      "\u001b[38;20m[INFO] Saving data took 0.01s\u001b[0m\n",
      "\u001b[38;20m[INFO] Running scenario finished.\u001b[0m\n",
      "\u001b[38;20m[INFO] self.fps = 20\u001b[0m\n",
      "\u001b[38;20m[INFO] Environment: MetaDriveEnv\u001b[0m\n",
      "\u001b[38;20m[INFO] MetaDrive version: 0.4.2.3\u001b[0m\n",
      "\u001b[38;20m[INFO] Sensors: [lidar: Lidar(), side_detector: SideDetector(), lane_line_detector: LaneLineDetector()]\u001b[0m\n",
      "\u001b[38;20m[INFO] Render Mode: none\u001b[0m\n",
      "\u001b[38;20m[INFO] Horizon (Max steps per agent): None\u001b[0m\n",
      "\u001b[38;20m[INFO] Assets version: 0.4.2.3\u001b[0m\n",
      "\u001b[38;20m[INFO] Known Pipes: glxGraphicsPipe\u001b[0m\n",
      "\u001b[38;20m[INFO] Start Scenario Index: 0, Num Scenarios : 1\u001b[0m\n",
      "\u001b[38;20m[INFO] Calculating max steps with: \u001b[0m\n",
      "\u001b[38;20m[INFO] V_min = 2.0, self.decision_repeat = 5, self.dt = 0.01, distance = 672.88, round(max_steps) = 6729\u001b[0m\n",
      "\u001b[38;20m[INFO] Launching the scenario with record = True\u001b[0m\n",
      "\u001b[38;20m[INFO] Episode ended! Scenario Index: 0 Reason: arrive_dest.\u001b[0m\n",
      "\u001b[38;20m[INFO] Saving gif to /media/olek/2TB_HDD/metadrive-data/playground/20/0.mp4\u001b[0m\n",
      "\u001b[38;20m[INFO] Initializing the env took 0.28s\u001b[0m\n",
      "\u001b[38;20m[INFO] Running the scenario took 7.38s\u001b[0m\n",
      "\u001b[38;20m[INFO] Closing the env took 0.12s\u001b[0m\n",
      "\u001b[38;20m[INFO] Total scenario execution took 7.78s\u001b[0m\n",
      "\u001b[38;20m[INFO] Saving data took 0.03s\u001b[0m\n",
      "\u001b[38;20m[INFO] Running scenario finished.\u001b[0m\n",
      "\u001b[38;20m[INFO] self.fps = 30\u001b[0m\n",
      "\u001b[38;20m[INFO] Environment: MetaDriveEnv\u001b[0m\n",
      "\u001b[38;20m[INFO] MetaDrive version: 0.4.2.3\u001b[0m\n",
      "\u001b[38;20m[INFO] Sensors: [lidar: Lidar(), side_detector: SideDetector(), lane_line_detector: LaneLineDetector()]\u001b[0m\n",
      "\u001b[38;20m[INFO] Render Mode: none\u001b[0m\n",
      "\u001b[38;20m[INFO] Horizon (Max steps per agent): None\u001b[0m\n",
      "\u001b[38;20m[INFO] Assets version: 0.4.2.3\u001b[0m\n",
      "\u001b[38;20m[INFO] Known Pipes: glxGraphicsPipe\u001b[0m\n",
      "\u001b[38;20m[INFO] Start Scenario Index: 0, Num Scenarios : 1\u001b[0m\n",
      "\u001b[38;20m[INFO] Calculating max steps with: \u001b[0m\n",
      "\u001b[38;20m[INFO] V_min = 2.0, self.decision_repeat = 5, self.dt = 0.006666666666666666, distance = 672.88, round(max_steps) = 10093\u001b[0m\n",
      "\u001b[38;20m[INFO] Launching the scenario with record = True\u001b[0m\n",
      "\u001b[38;20m[INFO] Episode ended! Scenario Index: 0 Reason: arrive_dest.\u001b[0m\n",
      "\u001b[38;20m[INFO] Saving gif to /media/olek/2TB_HDD/metadrive-data/playground/30/0.mp4\u001b[0m\n",
      "\u001b[38;20m[INFO] Initializing the env took 0.28s\u001b[0m\n",
      "\u001b[38;20m[INFO] Running the scenario took 11.22s\u001b[0m\n",
      "\u001b[38;20m[INFO] Closing the env took 0.12s\u001b[0m\n",
      "\u001b[38;20m[INFO] Total scenario execution took 11.62s\u001b[0m\n",
      "\u001b[38;20m[INFO] Saving data took 0.04s\u001b[0m\n",
      "\u001b[38;20m[INFO] Running scenario finished.\u001b[0m\n",
      "\u001b[38;20m[INFO] self.fps = 40\u001b[0m\n",
      "\u001b[38;20m[INFO] Environment: MetaDriveEnv\u001b[0m\n",
      "\u001b[38;20m[INFO] MetaDrive version: 0.4.2.3\u001b[0m\n",
      "\u001b[38;20m[INFO] Sensors: [lidar: Lidar(), side_detector: SideDetector(), lane_line_detector: LaneLineDetector()]\u001b[0m\n",
      "\u001b[38;20m[INFO] Render Mode: none\u001b[0m\n",
      "\u001b[38;20m[INFO] Horizon (Max steps per agent): None\u001b[0m\n",
      "\u001b[38;20m[INFO] Assets version: 0.4.2.3\u001b[0m\n",
      "\u001b[38;20m[INFO] Known Pipes: glxGraphicsPipe\u001b[0m\n",
      "\u001b[38;20m[INFO] Start Scenario Index: 0, Num Scenarios : 1\u001b[0m\n",
      "\u001b[38;20m[INFO] Calculating max steps with: \u001b[0m\n",
      "\u001b[38;20m[INFO] V_min = 2.0, self.decision_repeat = 5, self.dt = 0.005, distance = 672.88, round(max_steps) = 13458\u001b[0m\n",
      "\u001b[38;20m[INFO] Launching the scenario with record = True\u001b[0m\n",
      "\u001b[38;20m[INFO] Episode ended! Scenario Index: 0 Reason: arrive_dest.\u001b[0m\n",
      "\u001b[38;20m[INFO] Saving gif to /media/olek/2TB_HDD/metadrive-data/playground/40/0.mp4\u001b[0m\n",
      "\u001b[38;20m[INFO] Initializing the env took 0.28s\u001b[0m\n",
      "\u001b[38;20m[INFO] Running the scenario took 15.01s\u001b[0m\n",
      "\u001b[38;20m[INFO] Closing the env took 0.13s\u001b[0m\n",
      "\u001b[38;20m[INFO] Total scenario execution took 15.43s\u001b[0m\n",
      "\u001b[38;20m[INFO] Saving data took 0.05s\u001b[0m\n",
      "\u001b[38;20m[INFO] Running scenario finished.\u001b[0m\n",
      "\u001b[38;20m[INFO] self.fps = 50\u001b[0m\n",
      "\u001b[38;20m[INFO] Environment: MetaDriveEnv\u001b[0m\n",
      "\u001b[38;20m[INFO] MetaDrive version: 0.4.2.3\u001b[0m\n",
      "\u001b[38;20m[INFO] Sensors: [lidar: Lidar(), side_detector: SideDetector(), lane_line_detector: LaneLineDetector()]\u001b[0m\n",
      "\u001b[38;20m[INFO] Render Mode: none\u001b[0m\n",
      "\u001b[38;20m[INFO] Horizon (Max steps per agent): None\u001b[0m\n",
      "\u001b[38;20m[INFO] Assets version: 0.4.2.3\u001b[0m\n",
      "\u001b[38;20m[INFO] Known Pipes: glxGraphicsPipe\u001b[0m\n",
      "\u001b[38;20m[INFO] Start Scenario Index: 0, Num Scenarios : 1\u001b[0m\n",
      "\u001b[38;20m[INFO] Calculating max steps with: \u001b[0m\n",
      "\u001b[38;20m[INFO] V_min = 2.0, self.decision_repeat = 5, self.dt = 0.004, distance = 672.88, round(max_steps) = 16822\u001b[0m\n",
      "\u001b[38;20m[INFO] Launching the scenario with record = True\u001b[0m\n"
     ]
    }
   ],
   "source": [
    "seed = 0\n",
    "FPS_RANGE = [10, 20, 30, 40, 50, 60]\n",
    "for fps in FPS_RANGE:\n",
    "    dt = get_dt(fps)\n",
    "    ScenarioRunner(SAVE_DIR, seed, dt=dt, traffic_density=0.0).run_scenario(\n",
    "        record=True,\n",
    "        repeat=True,\n",
    "    )"
   ]
  }
 ],
 "metadata": {
  "kernelspec": {
   "display_name": "metadrive-datascience",
   "language": "python",
   "name": "python3"
  },
  "language_info": {
   "codemirror_mode": {
    "name": "ipython",
    "version": 3
   },
   "file_extension": ".py",
   "mimetype": "text/x-python",
   "name": "python",
   "nbconvert_exporter": "python",
   "pygments_lexer": "ipython3",
   "version": "3.10.14"
  }
 },
 "nbformat": 4,
 "nbformat_minor": 2
}
