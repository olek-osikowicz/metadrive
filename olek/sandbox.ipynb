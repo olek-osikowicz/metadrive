{
 "cells": [
  {
   "cell_type": "code",
   "execution_count": 4,
   "id": "92dc708a",
   "metadata": {},
   "outputs": [],
   "source": [
    "from utils.scenario_runner import ScenarioRunner\n",
    "\n",
    "from metadrive.engine.logger import get_logger\n",
    "\n",
    "log = get_logger()"
   ]
  },
  {
   "cell_type": "code",
   "execution_count": 5,
   "id": "f72a752c",
   "metadata": {},
   "outputs": [
    {
     "data": {
      "text/plain": [
       "<Logger MetaDrive (INFO)>"
      ]
     },
     "execution_count": 5,
     "metadata": {},
     "output_type": "execute_result"
    }
   ],
   "source": [
    "log"
   ]
  },
  {
   "cell_type": "code",
   "execution_count": 6,
   "id": "fb8a3a76",
   "metadata": {},
   "outputs": [
    {
     "name": "stderr",
     "output_type": "stream",
     "text": [
      "\u001b[38;20m[INFO] Saving data to data\u001b[0m\n",
      "\u001b[38;20m[INFO] Environment: MetaDriveEnv\u001b[0m\n",
      "\u001b[38;20m[INFO] MetaDrive version: 0.4.3\u001b[0m\n",
      "\u001b[38;20m[INFO] Sensors: [lidar: Lidar(), side_detector: SideDetector(), lane_line_detector: LaneLineDetector()]\u001b[0m\n",
      "\u001b[38;20m[INFO] Render Mode: none\u001b[0m\n",
      "\u001b[38;20m[INFO] Horizon (Max steps per agent): None\u001b[0m\n",
      "\u001b[38;20m[INFO] Assets version: 0.4.3\u001b[0m\n",
      "\u001b[38;20m[INFO] Known Pipes: glxGraphicsPipe\u001b[0m\n",
      "\u001b[38;20m[DEBUG] Load Vehicle Module: Lidar (distance_detector.py:114)\u001b[0m\n",
      "\u001b[38;20m[DEBUG] Load Vehicle Module: SideDetector (distance_detector.py:114)\u001b[0m\n",
      "\u001b[38;20m[DEBUG] Load Vehicle Module: LaneLineDetector (distance_detector.py:114)\u001b[0m\n",
      "\u001b[38;20m[INFO] Start Scenario Index: 0, Num Scenarios : 1\u001b[0m\n",
      "\u001b[38;20m[DEBUG] FirstPGBlock is attached to the world. (base_object.py:233)\u001b[0m\n",
      "\u001b[38;20m[DEBUG] Curve is attached to the world. (base_object.py:233)\u001b[0m\n",
      "\u001b[38;20m[DEBUG] Curve is attached to the world. (base_object.py:233)\u001b[0m\n",
      "\u001b[38;20m[DEBUG] Curve is attached to the world. (base_object.py:233)\u001b[0m\n",
      "\u001b[38;20m[DEBUG] StdInterSection is attached to the world. (base_object.py:233)\u001b[0m\n",
      "\u001b[38;20m[DEBUG] Curve is attached to the world. (base_object.py:233)\u001b[0m\n",
      "\u001b[38;20m[DEBUG] Curve is detached from the world. (base_object.py:251)\u001b[0m\n",
      "\u001b[38;20m[DEBUG] Curve is attached to the world. (base_object.py:233)\u001b[0m\n",
      "\u001b[38;20m[DEBUG] Curve is detached from the world. (base_object.py:251)\u001b[0m\n",
      "\u001b[38;20m[DEBUG] Curve is attached to the world. (base_object.py:233)\u001b[0m\n",
      "\u001b[38;20m[DEBUG] FirstPGBlock is detached from the world. (base_object.py:251)\u001b[0m\n",
      "\u001b[38;20m[DEBUG] Curve is detached from the world. (base_object.py:251)\u001b[0m\n",
      "\u001b[38;20m[DEBUG] Curve is detached from the world. (base_object.py:251)\u001b[0m\n",
      "\u001b[38;20m[DEBUG] Curve is detached from the world. (base_object.py:251)\u001b[0m\n",
      "\u001b[38;20m[DEBUG] StdInterSection is detached from the world. (base_object.py:251)\u001b[0m\n",
      "\u001b[38;20m[DEBUG] Curve is detached from the world. (base_object.py:251)\u001b[0m\n",
      "\u001b[38;20m[DEBUG] FirstPGBlock is attached to the world. (base_object.py:233)\u001b[0m\n",
      "\u001b[38;20m[DEBUG] Curve is attached to the world. (base_object.py:233)\u001b[0m\n",
      "\u001b[38;20m[DEBUG] Curve is attached to the world. (base_object.py:233)\u001b[0m\n",
      "\u001b[38;20m[DEBUG] Curve is attached to the world. (base_object.py:233)\u001b[0m\n",
      "\u001b[38;20m[DEBUG] StdInterSection is attached to the world. (base_object.py:233)\u001b[0m\n",
      "\u001b[38;20m[DEBUG] Curve is attached to the world. (base_object.py:233)\u001b[0m\n",
      "\u001b[38;20m[DEBUG] DefaultVehicle is attached to the world. (base_object.py:233)\u001b[0m\n",
      "\u001b[38;20m[DEBUG] MVehicle is attached to the world. (base_object.py:233)\u001b[0m\n",
      "\u001b[38;20m[DEBUG] LVehicle is attached to the world. (base_object.py:233)\u001b[0m\n",
      "\u001b[38;20m[DEBUG] MVehicle is attached to the world. (base_object.py:233)\u001b[0m\n",
      "\u001b[38;20m[DEBUG] XLVehicle is attached to the world. (base_object.py:233)\u001b[0m\n",
      "\u001b[38;20m[DEBUG] MVehicle is attached to the world. (base_object.py:233)\u001b[0m\n",
      "\u001b[38;20m[DEBUG] SVehicle is attached to the world. (base_object.py:233)\u001b[0m\n",
      "\u001b[38;20m[DEBUG] XLVehicle is attached to the world. (base_object.py:233)\u001b[0m\n",
      "\u001b[38;20m[DEBUG] MVehicle is attached to the world. (base_object.py:233)\u001b[0m\n",
      "\u001b[38;20m[DEBUG] LVehicle is attached to the world. (base_object.py:233)\u001b[0m\n",
      "\u001b[38;20m[DEBUG] Terrain is attached to the world. (base_object.py:233)\u001b[0m\n",
      "\u001b[38;20m[INFO] Launching the scenario with record = False\u001b[0m\n",
      "\u001b[38;20m[INFO] World FPS: 60, ADS FPS: 60, Ratio: 1\u001b[0m\n",
      "\u001b[38;20m[INFO] Running scenario finished.\u001b[0m\n",
      "\u001b[38;20m[INFO] Data saved!\u001b[0m\n"
     ]
    }
   ],
   "source": [
    "runner = ScenarioRunner(\"./data\", 0, 60)\n",
    "runner.run_scenario(repeat=True, dry_run=False, record=False)\n",
    "# cost = runner.get_evaluation_cost()\n",
    "del runner"
   ]
  },
  {
   "cell_type": "code",
   "execution_count": null,
   "id": "f1bae943",
   "metadata": {},
   "outputs": [],
   "source": []
  }
 ],
 "metadata": {
  "kernelspec": {
   "display_name": "metadrive-env",
   "language": "python",
   "name": "python3"
  },
  "language_info": {
   "codemirror_mode": {
    "name": "ipython",
    "version": 3
   },
   "file_extension": ".py",
   "mimetype": "text/x-python",
   "name": "python",
   "nbconvert_exporter": "python",
   "pygments_lexer": "ipython3",
   "version": "3.12.9"
  }
 },
 "nbformat": 4,
 "nbformat_minor": 5
}
