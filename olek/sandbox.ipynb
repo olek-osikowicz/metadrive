{
 "cells": [
  {
   "cell_type": "code",
   "execution_count": 1,
   "id": "92dc708a",
   "metadata": {},
   "outputs": [],
   "source": [
    "import logging\n",
    "\n",
    "from utils.scenario_runner import ScenarioRunner\n",
    "\n",
    "from metadrive.engine.logger import get_logger\n",
    "\n",
    "log = get_logger()"
   ]
  },
  {
   "cell_type": "code",
   "execution_count": 2,
   "id": "fb8a3a76",
   "metadata": {},
   "outputs": [
    {
     "name": "stderr",
     "output_type": "stream",
     "text": [
      "\u001b[38;20m[INFO] Saving data to data\u001b[0m\n",
      "\u001b[38;20m[INFO] Environment: MetaDriveEnv\u001b[0m\n",
      "\u001b[38;20m[INFO] MetaDrive version: 0.4.3\u001b[0m\n",
      "\u001b[38;20m[INFO] Sensors: [lidar: Lidar(), side_detector: SideDetector(), lane_line_detector: LaneLineDetector()]\u001b[0m\n",
      "\u001b[38;20m[INFO] Render Mode: none\u001b[0m\n",
      "\u001b[38;20m[INFO] Horizon (Max steps per agent): None\u001b[0m\n",
      "\u001b[38;20m[INFO] Assets version: 0.4.3\u001b[0m\n",
      "\u001b[38;20m[INFO] Known Pipes: glxGraphicsPipe\u001b[0m\n",
      "\u001b[38;20m[INFO] Start Scenario Index: 0, Num Scenarios : 1\u001b[0m\n"
     ]
    }
   ],
   "source": [
    "md_config = {\n",
    "    \"log_level\": logging.INFO,\n",
    "    \"map_config\": {\n",
    "        \"type\": \"block_sequence\",\n",
    "        \"config\": \"OXOXO\",  # 20 block\n",
    "    },\n",
    "    \"use_render\": False,\n",
    "    \"traffic_density\": 0.0,\n",
    "}\n",
    "runner = ScenarioRunner(save_dir=\"./data\", seed=0, ads_fps=10, config=md_config)\n"
   ]
  },
  {
   "cell_type": "code",
   "execution_count": 3,
   "id": "fde214a7",
   "metadata": {},
   "outputs": [],
   "source": [
    "map_data = runner.env.current_map.get_meta_data()\n",
    "block_sequence = map_data[\"block_sequence\"]\n",
    "\n",
    "del runner"
   ]
  },
  {
   "cell_type": "code",
   "execution_count": 4,
   "id": "153615ee",
   "metadata": {},
   "outputs": [
    {
     "data": {
      "text/plain": [
       "[{'id': 'I', 'pre_block_socket_index': None},\n",
       " {'angle': 60.0,\n",
       "  'exit_radius': 12.831477165222168,\n",
       "  'inner_radius': 38.49443054199219,\n",
       "  'id': 'O',\n",
       "  'pre_block_socket_index': '0I-socket0'},\n",
       " {'change_lane_num': 0,\n",
       "  'radius': 10.0,\n",
       "  'decrease_increase': 1,\n",
       "  'id': 'X',\n",
       "  'pre_block_socket_index': '1O-socket2'},\n",
       " {'angle': 60.0,\n",
       "  'exit_radius': 7.889293670654297,\n",
       "  'inner_radius': 23.66788101196289,\n",
       "  'id': 'O',\n",
       "  'pre_block_socket_index': '2X-socket1'},\n",
       " {'change_lane_num': 0,\n",
       "  'radius': 10.0,\n",
       "  'decrease_increase': 0,\n",
       "  'id': 'X',\n",
       "  'pre_block_socket_index': '3O-socket0'},\n",
       " {'angle': 60.0,\n",
       "  'exit_radius': 10.83830451965332,\n",
       "  'inner_radius': 32.51491165161133,\n",
       "  'id': 'O',\n",
       "  'pre_block_socket_index': '4X-socket2'}]"
      ]
     },
     "execution_count": 4,
     "metadata": {},
     "output_type": "execute_result"
    }
   ],
   "source": [
    "block_sequence"
   ]
  },
  {
   "cell_type": "code",
   "execution_count": 5,
   "id": "6ed67be4",
   "metadata": {},
   "outputs": [
    {
     "data": {
      "text/plain": [
       "[{'id': 'I', 'pre_block_socket_index': None},\n",
       " {'angle': 60.0,\n",
       "  'exit_radius': 12.831477165222168,\n",
       "  'inner_radius': 38.49443054199219,\n",
       "  'id': 'O',\n",
       "  'pre_block_socket_index': 0},\n",
       " {'change_lane_num': 0,\n",
       "  'radius': 10.0,\n",
       "  'decrease_increase': 1,\n",
       "  'id': 'X',\n",
       "  'pre_block_socket_index': 2},\n",
       " {'angle': 60.0,\n",
       "  'exit_radius': 7.889293670654297,\n",
       "  'inner_radius': 23.66788101196289,\n",
       "  'id': 'O',\n",
       "  'pre_block_socket_index': 1},\n",
       " {'change_lane_num': 0,\n",
       "  'radius': 10.0,\n",
       "  'decrease_increase': 0,\n",
       "  'id': 'X',\n",
       "  'pre_block_socket_index': 0},\n",
       " {'angle': 60.0,\n",
       "  'exit_radius': 10.83830451965332,\n",
       "  'inner_radius': 32.51491165161133,\n",
       "  'id': 'O',\n",
       "  'pre_block_socket_index': 2}]"
      ]
     },
     "execution_count": 5,
     "metadata": {},
     "output_type": "execute_result"
    }
   ],
   "source": [
    "for b in block_sequence:\n",
    "    socket = b[\"pre_block_socket_index\"]\n",
    "    b[\"pre_block_socket_index\"] = int(socket[-1]) if isinstance(socket, str) else None\n",
    "\n",
    "block_sequence"
   ]
  },
  {
   "cell_type": "code",
   "execution_count": 6,
   "id": "9cc4bad4",
   "metadata": {},
   "outputs": [
    {
     "name": "stderr",
     "output_type": "stream",
     "text": [
      "\u001b[38;20m[INFO] Saving data to data\u001b[0m\n",
      "\u001b[38;20m[INFO] Environment: MetaDriveEnv\u001b[0m\n",
      "\u001b[38;20m[INFO] MetaDrive version: 0.4.3\u001b[0m\n",
      "\u001b[38;20m[INFO] Sensors: [lidar: Lidar(), side_detector: SideDetector(), lane_line_detector: LaneLineDetector()]\u001b[0m\n",
      "\u001b[38;20m[INFO] Render Mode: none\u001b[0m\n",
      "\u001b[38;20m[INFO] Horizon (Max steps per agent): None\u001b[0m\n",
      "\u001b[38;20m[INFO] Assets version: 0.4.3\u001b[0m\n",
      "\u001b[38;20m[INFO] Known Pipes: glxGraphicsPipe\u001b[0m\n",
      "\u001b[38;20m[INFO] Start Scenario Index: 0, Num Scenarios : 1\u001b[0m\n"
     ]
    }
   ],
   "source": [
    "md_config = {\n",
    "    \"log_level\": logging.INFO,\n",
    "    \"map_config\": {\n",
    "        \"type\": \"pg_map_file\",\n",
    "        \"config\": block_sequence,\n",
    "    },\n",
    "    \"use_render\": False,\n",
    "    \"traffic_density\": 0.0,\n",
    "}\n",
    "runner = ScenarioRunner(save_dir=\"./data\", seed=0, ads_fps=10, config=md_config)\n"
   ]
  },
  {
   "cell_type": "code",
   "execution_count": 7,
   "id": "769d4f93",
   "metadata": {},
   "outputs": [
    {
     "name": "stderr",
     "output_type": "stream",
     "text": [
      "\u001b[38;20m[INFO] Launching the scenario with record = True\u001b[0m\n",
      "\u001b[38;20m[INFO] World FPS: 60, ADS FPS: 10, Ratio: 6\u001b[0m\n",
      "\u001b[38;20m[INFO] Recording semantic BEV video...\u001b[0m\n",
      "\u001b[38;20m[INFO] Saving render to data/10_0_bev.mp4\u001b[0m\n",
      "\u001b[38;20m[INFO] Use Torch PPO expert.\u001b[0m\n",
      "\u001b[38;20m[INFO] Running scenario finished.\u001b[0m\n",
      "\u001b[38;20m[INFO] Data saved!\u001b[0m\n"
     ]
    }
   ],
   "source": [
    "runner.run_scenario(repeat=True, dry_run=False, record=True)"
   ]
  }
 ],
 "metadata": {
  "kernelspec": {
   "display_name": "metadrive-env",
   "language": "python",
   "name": "python3"
  },
  "language_info": {
   "codemirror_mode": {
    "name": "ipython",
    "version": 3
   },
   "file_extension": ".py",
   "mimetype": "text/x-python",
   "name": "python",
   "nbconvert_exporter": "python",
   "pygments_lexer": "ipython3",
   "version": "3.12.9"
  }
 },
 "nbformat": 4,
 "nbformat_minor": 5
}
