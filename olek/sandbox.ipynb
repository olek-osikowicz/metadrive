{
 "cells": [
  {
   "cell_type": "code",
   "execution_count": 1,
   "id": "92dc708a",
   "metadata": {},
   "outputs": [],
   "source": [
    "import logging\n",
    "\n",
    "from utils.scenario_runner import ScenarioRunner\n",
    "\n",
    "from metadrive.engine.logger import get_logger\n",
    "\n",
    "log = get_logger()"
   ]
  },
  {
   "cell_type": "code",
   "execution_count": 2,
   "id": "fb8a3a76",
   "metadata": {},
   "outputs": [
    {
     "name": "stderr",
     "output_type": "stream",
     "text": [
      "\u001b[38;20m[INFO] Saving data to data\u001b[0m\n",
      "\u001b[38;20m[INFO] Environment: MetaDriveEnv\u001b[0m\n",
      "\u001b[38;20m[INFO] MetaDrive version: 0.4.3\u001b[0m\n",
      "\u001b[38;20m[INFO] Sensors: [lidar: Lidar(), side_detector: SideDetector(), lane_line_detector: LaneLineDetector()]\u001b[0m\n",
      "\u001b[38;20m[INFO] Render Mode: none\u001b[0m\n",
      "\u001b[38;20m[INFO] Horizon (Max steps per agent): None\u001b[0m\n",
      "\u001b[38;20m[INFO] Assets version: 0.4.3\u001b[0m\n",
      "\u001b[38;20m[INFO] Known Pipes: glxGraphicsPipe\u001b[0m\n",
      "\u001b[38;20m[INFO] Start Scenario Index: 0, Num Scenarios : 1\u001b[0m\n"
     ]
    }
   ],
   "source": [
    "md_config = {\n",
    "    \"log_level\": logging.INFO,\n",
    "    \"map_config\": {\n",
    "        \"type\": \"block_sequence\",\n",
    "        \"config\": \"OXOXO\",  # 20 block\n",
    "    },\n",
    "    \"use_render\": False,\n",
    "    \"traffic_density\": 0.0,\n",
    "}\n",
    "runner = ScenarioRunner(save_dir=\"./data\", seed=0, ads_fps=10, config=md_config)\n"
   ]
  },
  {
   "cell_type": "code",
   "execution_count": 3,
   "id": "fde214a7",
   "metadata": {},
   "outputs": [
    {
     "name": "stderr",
     "output_type": "stream",
     "text": [
      "\u001b[38;20m[INFO] Running scenario finished.\u001b[0m\n",
      "\u001b[38;20m[INFO] Data saved!\u001b[0m\n"
     ]
    }
   ],
   "source": [
    "runner.run_scenario(repeat=True, dry_run=True, record=True)\n",
    "# cost = runner.get_evaluation_cost()\n",
    "del runner"
   ]
  },
  {
   "cell_type": "code",
   "execution_count": 4,
   "id": "ff7f368e",
   "metadata": {},
   "outputs": [
    {
     "name": "stderr",
     "output_type": "stream",
     "text": [
      "\u001b[38;20m[INFO] Running scenario with block sequence: CXC\u001b[0m\n",
      "\u001b[38;20m[INFO] Saving data to data/CXC\u001b[0m\n",
      "\u001b[38;20m[INFO] Environment: MetaDriveEnv\u001b[0m\n",
      "\u001b[38;20m[INFO] MetaDrive version: 0.4.3\u001b[0m\n",
      "\u001b[38;20m[INFO] Sensors: [lidar: Lidar(), side_detector: SideDetector(), lane_line_detector: LaneLineDetector()]\u001b[0m\n",
      "\u001b[38;20m[INFO] Render Mode: none\u001b[0m\n",
      "\u001b[38;20m[INFO] Horizon (Max steps per agent): None\u001b[0m\n",
      "\u001b[38;20m[INFO] Assets version: 0.4.3\u001b[0m\n",
      "\u001b[38;20m[INFO] Known Pipes: glxGraphicsPipe\u001b[0m\n",
      "\u001b[38;20m[INFO] Start Scenario Index: 0, Num Scenarios : 1\u001b[0m\n",
      "\u001b[38;20m[INFO] Running scenario finished.\u001b[0m\n",
      "\u001b[38;20m[INFO] Data saved!\u001b[0m\n",
      "\u001b[38;20m[INFO] Running scenario with block sequence: CSC\u001b[0m\n",
      "\u001b[38;20m[INFO] Saving data to data/CSC\u001b[0m\n",
      "\u001b[38;20m[INFO] Environment: MetaDriveEnv\u001b[0m\n",
      "\u001b[38;20m[INFO] MetaDrive version: 0.4.3\u001b[0m\n",
      "\u001b[38;20m[INFO] Sensors: [lidar: Lidar(), side_detector: SideDetector(), lane_line_detector: LaneLineDetector()]\u001b[0m\n",
      "\u001b[38;20m[INFO] Render Mode: none\u001b[0m\n",
      "\u001b[38;20m[INFO] Horizon (Max steps per agent): None\u001b[0m\n",
      "\u001b[38;20m[INFO] Assets version: 0.4.3\u001b[0m\n",
      "\u001b[38;20m[INFO] Known Pipes: glxGraphicsPipe\u001b[0m\n",
      "\u001b[38;20m[INFO] Start Scenario Index: 0, Num Scenarios : 1\u001b[0m\n",
      "\u001b[38;20m[INFO] Running scenario finished.\u001b[0m\n",
      "\u001b[38;20m[INFO] Data saved!\u001b[0m\n"
     ]
    }
   ],
   "source": [
    "for block_sequence in [\"CXC\", \"CSC\"]:\n",
    "    md_config[\"map_config\"][\"config\"] = block_sequence\n",
    "    log.info(f\"Running scenario with block sequence: {block_sequence}\")\n",
    "    runner = ScenarioRunner(\n",
    "        save_dir=f\"./data/{block_sequence}\", seed=0, ads_fps=10, config=md_config\n",
    "    )\n",
    "    runner.run_scenario(repeat=True, dry_run=True, record=True)\n",
    "    del runner"
   ]
  }
 ],
 "metadata": {
  "kernelspec": {
   "display_name": "metadrive-env",
   "language": "python",
   "name": "python3"
  },
  "language_info": {
   "codemirror_mode": {
    "name": "ipython",
    "version": 3
   },
   "file_extension": ".py",
   "mimetype": "text/x-python",
   "name": "python",
   "nbconvert_exporter": "python",
   "pygments_lexer": "ipython3",
   "version": "3.12.9"
  }
 },
 "nbformat": 4,
 "nbformat_minor": 5
}
