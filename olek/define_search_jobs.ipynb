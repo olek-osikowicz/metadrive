{
 "cells": [
  {
   "cell_type": "code",
   "execution_count": 11,
   "metadata": {},
   "outputs": [],
   "source": [
    "from utils.bayesian_optimisation import SEARCH_FIDELITIES, SEARCH_TYPES\n",
    "from itertools import count, product\n",
    "from pathlib import Path\n",
    "import sys\n",
    "import json"
   ]
  },
  {
   "cell_type": "code",
   "execution_count": 12,
   "metadata": {},
   "outputs": [],
   "source": [
    "SMOKETEST = True\n",
    "SEARCH_BUDGET = 600 if not SMOKETEST else 30\n",
    "INITIALIZATION_RATIO = 0.90  # run random search for 10% of BayesOpt\n",
    "N_REPETITIONS = 30 if not SMOKETEST else 2\n",
    "N_PROCESSES = 5 if not SMOKETEST else 1"
   ]
  },
  {
   "cell_type": "code",
   "execution_count": 13,
   "metadata": {},
   "outputs": [
    {
     "name": "stdout",
     "output_type": "stream",
     "text": [
      "[(0, 'randomsearch', 10), (0, 'randomsearch', 20), (0, 'randomsearch', 30), (0, 'randomsearch', 60), (0, 'randomsearch', 'multifidelity'), (0, 'bayesopt_ei', 10), (0, 'bayesopt_ei', 20), (0, 'bayesopt_ei', 30), (0, 'bayesopt_ei', 60), (0, 'bayesopt_ei', 'multifidelity'), (0, 'bayesopt_ucb', 10), (0, 'bayesopt_ucb', 20), (0, 'bayesopt_ucb', 30), (0, 'bayesopt_ucb', 60), (0, 'bayesopt_ucb', 'multifidelity'), (1, 'randomsearch', 10), (1, 'randomsearch', 20), (1, 'randomsearch', 30), (1, 'randomsearch', 60), (1, 'randomsearch', 'multifidelity'), (1, 'bayesopt_ei', 10), (1, 'bayesopt_ei', 20), (1, 'bayesopt_ei', 30), (1, 'bayesopt_ei', 60), (1, 'bayesopt_ei', 'multifidelity'), (1, 'bayesopt_ucb', 10), (1, 'bayesopt_ucb', 20), (1, 'bayesopt_ucb', 30), (1, 'bayesopt_ucb', 60), (1, 'bayesopt_ucb', 'multifidelity')]\n"
     ]
    }
   ],
   "source": [
    "search_jobs = list(product(range(N_REPETITIONS), SEARCH_TYPES, SEARCH_FIDELITIES))\n",
    "print(search_jobs)"
   ]
  },
  {
   "cell_type": "code",
   "execution_count": 47,
   "metadata": {},
   "outputs": [
    {
     "data": {
      "text/plain": [
       "PosixPath('checkpoints.json')"
      ]
     },
     "execution_count": 47,
     "metadata": {},
     "output_type": "execute_result"
    }
   ],
   "source": [
    "checkpoints_path = Path(\"checkpoints.json\")\n",
    "checkpoints_path"
   ]
  },
  {
   "cell_type": "code",
   "execution_count": 37,
   "metadata": {},
   "outputs": [
    {
     "data": {
      "text/plain": [
       "[{'search_params': (0, 'randomsearch', 10), 'status': 'not_started'},\n",
       " {'search_params': (0, 'randomsearch', 20), 'status': 'not_started'},\n",
       " {'search_params': (0, 'randomsearch', 30), 'status': 'not_started'},\n",
       " {'search_params': (0, 'randomsearch', 60), 'status': 'not_started'},\n",
       " {'search_params': (0, 'randomsearch', 'multifidelity'),\n",
       "  'status': 'not_started'},\n",
       " {'search_params': (0, 'bayesopt_ei', 10), 'status': 'not_started'},\n",
       " {'search_params': (0, 'bayesopt_ei', 20), 'status': 'not_started'},\n",
       " {'search_params': (0, 'bayesopt_ei', 30), 'status': 'not_started'},\n",
       " {'search_params': (0, 'bayesopt_ei', 60), 'status': 'not_started'},\n",
       " {'search_params': (0, 'bayesopt_ei', 'multifidelity'),\n",
       "  'status': 'not_started'},\n",
       " {'search_params': (0, 'bayesopt_ucb', 10), 'status': 'not_started'},\n",
       " {'search_params': (0, 'bayesopt_ucb', 20), 'status': 'not_started'},\n",
       " {'search_params': (0, 'bayesopt_ucb', 30), 'status': 'not_started'},\n",
       " {'search_params': (0, 'bayesopt_ucb', 60), 'status': 'not_started'},\n",
       " {'search_params': (0, 'bayesopt_ucb', 'multifidelity'),\n",
       "  'status': 'not_started'},\n",
       " {'search_params': (1, 'randomsearch', 10), 'status': 'not_started'},\n",
       " {'search_params': (1, 'randomsearch', 20), 'status': 'not_started'},\n",
       " {'search_params': (1, 'randomsearch', 30), 'status': 'not_started'},\n",
       " {'search_params': (1, 'randomsearch', 60), 'status': 'not_started'},\n",
       " {'search_params': (1, 'randomsearch', 'multifidelity'),\n",
       "  'status': 'not_started'},\n",
       " {'search_params': (1, 'bayesopt_ei', 10), 'status': 'not_started'},\n",
       " {'search_params': (1, 'bayesopt_ei', 20), 'status': 'not_started'},\n",
       " {'search_params': (1, 'bayesopt_ei', 30), 'status': 'not_started'},\n",
       " {'search_params': (1, 'bayesopt_ei', 60), 'status': 'not_started'},\n",
       " {'search_params': (1, 'bayesopt_ei', 'multifidelity'),\n",
       "  'status': 'not_started'},\n",
       " {'search_params': (1, 'bayesopt_ucb', 10), 'status': 'not_started'},\n",
       " {'search_params': (1, 'bayesopt_ucb', 20), 'status': 'not_started'},\n",
       " {'search_params': (1, 'bayesopt_ucb', 30), 'status': 'not_started'},\n",
       " {'search_params': (1, 'bayesopt_ucb', 60), 'status': 'not_started'},\n",
       " {'search_params': (1, 'bayesopt_ucb', 'multifidelity'),\n",
       "  'status': 'not_started'}]"
      ]
     },
     "execution_count": 37,
     "metadata": {},
     "output_type": "execute_result"
    }
   ],
   "source": [
    "check_points = [{\"search_params\": params, \"status\": \"not_started\"} for params in search_jobs]\n",
    "check_points"
   ]
  },
  {
   "cell_type": "code",
   "execution_count": 48,
   "metadata": {},
   "outputs": [],
   "source": [
    "with open(checkpoints_path, \"w\") as f:\n",
    "    json.dump(check_points, f, indent=4)"
   ]
  },
  {
   "cell_type": "code",
   "execution_count": null,
   "metadata": {},
   "outputs": [],
   "source": [
    "read_checkpoints = json.loads(checkpoints_path.read_text())\n",
    "assert len(read_checkpoints) == len(check_points)"
   ]
  },
  {
   "cell_type": "code",
   "execution_count": 59,
   "metadata": {},
   "outputs": [
    {
     "data": {
      "text/plain": [
       "[{'search_params': [0, 'randomsearch', 10], 'status': 'not_started'},\n",
       " {'search_params': [0, 'randomsearch', 20], 'status': 'not_started'},\n",
       " {'search_params': [0, 'randomsearch', 30], 'status': 'not_started'},\n",
       " {'search_params': [0, 'randomsearch', 60], 'status': 'not_started'},\n",
       " {'search_params': [0, 'randomsearch', 'multifidelity'],\n",
       "  'status': 'not_started'},\n",
       " {'search_params': [0, 'bayesopt_ei', 10], 'status': 'not_started'},\n",
       " {'search_params': [0, 'bayesopt_ei', 20], 'status': 'not_started'},\n",
       " {'search_params': [0, 'bayesopt_ei', 30], 'status': 'not_started'},\n",
       " {'search_params': [0, 'bayesopt_ei', 60], 'status': 'not_started'},\n",
       " {'search_params': [0, 'bayesopt_ei', 'multifidelity'],\n",
       "  'status': 'not_started'},\n",
       " {'search_params': [0, 'bayesopt_ucb', 10], 'status': 'not_started'},\n",
       " {'search_params': [0, 'bayesopt_ucb', 20], 'status': 'not_started'},\n",
       " {'search_params': [0, 'bayesopt_ucb', 30], 'status': 'not_started'},\n",
       " {'search_params': [0, 'bayesopt_ucb', 60], 'status': 'not_started'},\n",
       " {'search_params': [0, 'bayesopt_ucb', 'multifidelity'],\n",
       "  'status': 'not_started'},\n",
       " {'search_params': [1, 'randomsearch', 10], 'status': 'not_started'},\n",
       " {'search_params': [1, 'randomsearch', 20], 'status': 'not_started'},\n",
       " {'search_params': [1, 'randomsearch', 30], 'status': 'not_started'},\n",
       " {'search_params': [1, 'randomsearch', 60], 'status': 'not_started'},\n",
       " {'search_params': [1, 'randomsearch', 'multifidelity'],\n",
       "  'status': 'not_started'},\n",
       " {'search_params': [1, 'bayesopt_ei', 10], 'status': 'not_started'},\n",
       " {'search_params': [1, 'bayesopt_ei', 20], 'status': 'not_started'},\n",
       " {'search_params': [1, 'bayesopt_ei', 30], 'status': 'not_started'},\n",
       " {'search_params': [1, 'bayesopt_ei', 60], 'status': 'not_started'},\n",
       " {'search_params': [1, 'bayesopt_ei', 'multifidelity'],\n",
       "  'status': 'not_started'},\n",
       " {'search_params': [1, 'bayesopt_ucb', 10], 'status': 'not_started'},\n",
       " {'search_params': [1, 'bayesopt_ucb', 20], 'status': 'not_started'},\n",
       " {'search_params': [1, 'bayesopt_ucb', 30], 'status': 'not_started'},\n",
       " {'search_params': [1, 'bayesopt_ucb', 60], 'status': 'not_started'},\n",
       " {'search_params': [1, 'bayesopt_ucb', 'multifidelity'],\n",
       "  'status': 'not_started'}]"
      ]
     },
     "execution_count": 59,
     "metadata": {},
     "output_type": "execute_result"
    }
   ],
   "source": [
    "[checkpoint for checkpoint in read_checkpoints if checkpoint[\"status\"] == \"not_started\"]"
   ]
  }
 ],
 "metadata": {
  "kernelspec": {
   "display_name": "metadrive-env",
   "language": "python",
   "name": "python3"
  },
  "language_info": {
   "codemirror_mode": {
    "name": "ipython",
    "version": 3
   },
   "file_extension": ".py",
   "mimetype": "text/x-python",
   "name": "python",
   "nbconvert_exporter": "python",
   "pygments_lexer": "ipython3",
   "version": "3.12.9"
  }
 },
 "nbformat": 4,
 "nbformat_minor": 2
}
