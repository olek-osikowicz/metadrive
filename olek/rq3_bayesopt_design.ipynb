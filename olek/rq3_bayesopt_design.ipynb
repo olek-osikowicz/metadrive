{
 "cells": [
  {
   "cell_type": "markdown",
   "metadata": {},
   "source": [
    "# IMPORTS\n"
   ]
  },
  {
   "cell_type": "code",
   "execution_count": 1,
   "metadata": {},
   "outputs": [],
   "source": [
    "from pathlib import Path\n",
    "from IPython.display import Image\n",
    "import sys\n",
    "from functools import cache\n",
    "from utils.bayesian_optimisation import (\n",
    "    HDD_PATH,\n",
    "    FIDELITY_RANGE,\n",
    "    get_training_data,\n",
    "    get_candidate_solutions,\n",
    "    preprocess_features,\n",
    "    regression_pipeline,\n",
    "    get_mean_and_std_from_model,\n",
    "    expected_improvement,\n",
    "    upper_confidence_bound,\n",
    "    get_next_scenario_seed_from_aq,\n",
    "    get_random_scenario_seed,\n",
    ")\n",
    "\n",
    "import pandas as pd\n",
    "from typing import Tuple\n",
    "\n",
    "import numpy as np\n",
    "\n",
    "from metadrive.engine.logger import get_logger\n",
    "\n",
    "logger = get_logger()"
   ]
  },
  {
   "cell_type": "markdown",
   "metadata": {},
   "source": [
    "# MAIN\n"
   ]
  },
  {
   "cell_type": "code",
   "execution_count": 2,
   "metadata": {},
   "outputs": [
    {
     "name": "stderr",
     "output_type": "stream",
     "text": [
      "\u001b[38;20m[INFO] Loading benchmarking data\u001b[0m\n"
     ]
    }
   ],
   "source": [
    "train_df = get_training_data()\n",
    "candidates = get_candidate_solutions()"
   ]
  },
  {
   "cell_type": "code",
   "execution_count": 3,
   "metadata": {},
   "outputs": [],
   "source": [
    "X_train = preprocess_features(train_df)"
   ]
  },
  {
   "cell_type": "code",
   "execution_count": 4,
   "metadata": {},
   "outputs": [],
   "source": [
    "y_train = train_df[\"eval.driving_score\"]"
   ]
  },
  {
   "cell_type": "code",
   "execution_count": 5,
   "metadata": {},
   "outputs": [
    {
     "name": "stderr",
     "output_type": "stream",
     "text": [
      "\u001b[38;20m[INFO] Current best score is: 0.063\u001b[0m\n"
     ]
    }
   ],
   "source": [
    "target_fidelity = max(FIDELITY_RANGE)\n",
    "current_best = y_train.xs(target_fidelity).min()\n",
    "logger.info(f\"Current best score is: {current_best:.3f}\")"
   ]
  },
  {
   "cell_type": "code",
   "execution_count": 6,
   "metadata": {},
   "outputs": [
    {
     "name": "stderr",
     "output_type": "stream",
     "text": [
      "\u001b[38;20m[INFO] Model trained\u001b[0m\n"
     ]
    }
   ],
   "source": [
    "pipe = regression_pipeline(X_train)\n",
    "pipe.set_params(regressor__n_jobs=16)\n",
    "model = pipe.fit(X_train, y_train)\n",
    "logger.info(f\"Model trained\")"
   ]
  },
  {
   "cell_type": "code",
   "execution_count": 7,
   "metadata": {},
   "outputs": [
    {
     "name": "stderr",
     "output_type": "stream",
     "text": [
      "\u001b[38;20m[INFO] Considering next scenario from 100000 candidates.\u001b[0m\n"
     ]
    }
   ],
   "source": [
    "# find best candidate in high fidelity\n",
    "candidates = candidates[~candidates.index.isin(train_df.index.get_level_values(\"def.seed\"))]\n",
    "logger.info(f\"Considering next scenario from {len(candidates)} candidates.\")"
   ]
  },
  {
   "cell_type": "code",
   "execution_count": 8,
   "metadata": {},
   "outputs": [],
   "source": [
    "hf_test = preprocess_features(candidates)\n",
    "# test candidates must be in highfidelity beacouse we want to predict hf score\n",
    "hf_test[\"fid.ads_fps\"] = target_fidelity\n",
    "hf_test = hf_test[X_train.columns]"
   ]
  },
  {
   "cell_type": "code",
   "execution_count": 9,
   "metadata": {},
   "outputs": [
    {
     "name": "stderr",
     "output_type": "stream",
     "text": [
      "\u001b[38;20m[INFO] Best from model: 0.294\u001b[0m\n"
     ]
    }
   ],
   "source": [
    "mean, std = get_mean_and_std_from_model(model, hf_test)\n",
    "logger.info(f\"Best from model: {mean.min():.3f}\")"
   ]
  },
  {
   "cell_type": "code",
   "execution_count": 10,
   "metadata": {},
   "outputs": [
    {
     "name": "stderr",
     "output_type": "stream",
     "text": [
      "\u001b[38;20m[INFO] Maximum EI: -0.231\u001b[0m\n",
      "\u001b[38;20m[INFO] Maximum positive EI: 0.000\u001b[0m\n",
      "\u001b[38;20m[INFO] Maximum EI with uncertainty: 0.392\u001b[0m\n"
     ]
    }
   ],
   "source": [
    "aq_type = \"ei\"\n",
    "match aq_type:\n",
    "    case \"ei\":\n",
    "        aq = expected_improvement(mean, std, current_best)\n",
    "    case \"ucb\":\n",
    "        aq = upper_confidence_bound(mean, std)\n",
    "    case _:\n",
    "        raise ValueError(\"Invalid acquisition function\")"
   ]
  },
  {
   "cell_type": "code",
   "execution_count": 11,
   "metadata": {},
   "outputs": [
    {
     "name": "stderr",
     "output_type": "stream",
     "text": [
      "\u001b[38;20m[INFO] Next seed to evaluate: 1049612\u001b[0m\n"
     ]
    }
   ],
   "source": [
    "next_seed = get_next_scenario_seed_from_aq(aq, candidates)\n",
    "logger.info(f\"Next seed to evaluate: {next_seed}\")"
   ]
  },
  {
   "cell_type": "code",
   "execution_count": 12,
   "metadata": {},
   "outputs": [
    {
     "data": {
      "text/html": [
       "<div>\n",
       "<style scoped>\n",
       "    .dataframe tbody tr th:only-of-type {\n",
       "        vertical-align: middle;\n",
       "    }\n",
       "\n",
       "    .dataframe tbody tr th {\n",
       "        vertical-align: top;\n",
       "    }\n",
       "\n",
       "    .dataframe thead th {\n",
       "        text-align: right;\n",
       "    }\n",
       "</style>\n",
       "<table border=\"1\" class=\"dataframe\">\n",
       "  <thead>\n",
       "    <tr style=\"text-align: right;\">\n",
       "      <th></th>\n",
       "      <th>fid.ads_fps</th>\n",
       "      <th>fid.world_fps</th>\n",
       "      <th>def.spawn_lane_index</th>\n",
       "      <th>def.distance</th>\n",
       "      <th>def.max_steps</th>\n",
       "      <th>time.init_time</th>\n",
       "      <th>time.agent_time</th>\n",
       "      <th>time.scenario_time</th>\n",
       "      <th>time.closing_time</th>\n",
       "      <th>def.map_seq.0.id</th>\n",
       "      <th>...</th>\n",
       "      <th>def.vehicles_data.vehicle_36_position_x</th>\n",
       "      <th>def.vehicles_data.vehicle_36_position_y</th>\n",
       "      <th>def.vehicles_data.vehicle_36_position_z</th>\n",
       "      <th>def.vehicles_data.vehicle_36_type</th>\n",
       "      <th>def.vehicles_data.vehicle_36_heading_theta</th>\n",
       "      <th>def.vehicles_data.vehicle_36_length</th>\n",
       "      <th>def.vehicles_data.vehicle_36_width</th>\n",
       "      <th>def.vehicles_data.vehicle_36_height</th>\n",
       "      <th>def.vehicles_data.vehicle_36_spawn_road</th>\n",
       "      <th>def.vehicles_data.vehicle_36_destination</th>\n",
       "    </tr>\n",
       "    <tr>\n",
       "      <th>def.seed</th>\n",
       "      <th></th>\n",
       "      <th></th>\n",
       "      <th></th>\n",
       "      <th></th>\n",
       "      <th></th>\n",
       "      <th></th>\n",
       "      <th></th>\n",
       "      <th></th>\n",
       "      <th></th>\n",
       "      <th></th>\n",
       "      <th></th>\n",
       "      <th></th>\n",
       "      <th></th>\n",
       "      <th></th>\n",
       "      <th></th>\n",
       "      <th></th>\n",
       "      <th></th>\n",
       "      <th></th>\n",
       "      <th></th>\n",
       "      <th></th>\n",
       "      <th></th>\n",
       "    </tr>\n",
       "  </thead>\n",
       "  <tbody>\n",
       "    <tr>\n",
       "      <th>1049612</th>\n",
       "      <td>60</td>\n",
       "      <td>60</td>\n",
       "      <td>0</td>\n",
       "      <td>544.867698</td>\n",
       "      <td>16346</td>\n",
       "      <td>0.485539</td>\n",
       "      <td>0</td>\n",
       "      <td>1.520000e-07</td>\n",
       "      <td>2.51674</td>\n",
       "      <td>I</td>\n",
       "      <td>...</td>\n",
       "      <td>NaN</td>\n",
       "      <td>NaN</td>\n",
       "      <td>NaN</td>\n",
       "      <td>None</td>\n",
       "      <td>NaN</td>\n",
       "      <td>NaN</td>\n",
       "      <td>NaN</td>\n",
       "      <td>NaN</td>\n",
       "      <td>None</td>\n",
       "      <td>None</td>\n",
       "    </tr>\n",
       "  </tbody>\n",
       "</table>\n",
       "<p>1 rows × 478 columns</p>\n",
       "</div>"
      ],
      "text/plain": [
       "          fid.ads_fps  fid.world_fps  def.spawn_lane_index  def.distance  \\\n",
       "def.seed                                                                   \n",
       "1049612            60             60                     0    544.867698   \n",
       "\n",
       "          def.max_steps  time.init_time  time.agent_time  time.scenario_time  \\\n",
       "def.seed                                                                       \n",
       "1049612           16346        0.485539                0        1.520000e-07   \n",
       "\n",
       "          time.closing_time def.map_seq.0.id  ...  \\\n",
       "def.seed                                      ...   \n",
       "1049612             2.51674                I  ...   \n",
       "\n",
       "          def.vehicles_data.vehicle_36_position_x  \\\n",
       "def.seed                                            \n",
       "1049612                                       NaN   \n",
       "\n",
       "          def.vehicles_data.vehicle_36_position_y  \\\n",
       "def.seed                                            \n",
       "1049612                                       NaN   \n",
       "\n",
       "         def.vehicles_data.vehicle_36_position_z  \\\n",
       "def.seed                                           \n",
       "1049612                                      NaN   \n",
       "\n",
       "         def.vehicles_data.vehicle_36_type  \\\n",
       "def.seed                                     \n",
       "1049612                               None   \n",
       "\n",
       "          def.vehicles_data.vehicle_36_heading_theta  \\\n",
       "def.seed                                               \n",
       "1049612                                          NaN   \n",
       "\n",
       "          def.vehicles_data.vehicle_36_length  \\\n",
       "def.seed                                        \n",
       "1049612                                   NaN   \n",
       "\n",
       "          def.vehicles_data.vehicle_36_width  \\\n",
       "def.seed                                       \n",
       "1049612                                  NaN   \n",
       "\n",
       "          def.vehicles_data.vehicle_36_height  \\\n",
       "def.seed                                        \n",
       "1049612                                   NaN   \n",
       "\n",
       "          def.vehicles_data.vehicle_36_spawn_road  \\\n",
       "def.seed                                            \n",
       "1049612                                      None   \n",
       "\n",
       "          def.vehicles_data.vehicle_36_destination  \n",
       "def.seed                                            \n",
       "1049612                                       None  \n",
       "\n",
       "[1 rows x 478 columns]"
      ]
     },
     "execution_count": 12,
     "metadata": {},
     "output_type": "execute_result"
    }
   ],
   "source": [
    "# Project next candidate to all the fidelities\n",
    "next_cadidate = candidates.loc[[next_seed]]\n",
    "next_cadidate"
   ]
  },
  {
   "cell_type": "code",
   "execution_count": 13,
   "metadata": {},
   "outputs": [],
   "source": [
    "mf_candidates = pd.concat([next_cadidate] * len(FIDELITY_RANGE))\n",
    "mf_candidates[\"fid.ads_fps\"] = FIDELITY_RANGE"
   ]
  },
  {
   "cell_type": "code",
   "execution_count": 14,
   "metadata": {},
   "outputs": [
    {
     "data": {
      "text/html": [
       "<div>\n",
       "<style scoped>\n",
       "    .dataframe tbody tr th:only-of-type {\n",
       "        vertical-align: middle;\n",
       "    }\n",
       "\n",
       "    .dataframe tbody tr th {\n",
       "        vertical-align: top;\n",
       "    }\n",
       "\n",
       "    .dataframe thead th {\n",
       "        text-align: right;\n",
       "    }\n",
       "</style>\n",
       "<table border=\"1\" class=\"dataframe\">\n",
       "  <thead>\n",
       "    <tr style=\"text-align: right;\">\n",
       "      <th></th>\n",
       "      <th>fid.ads_fps</th>\n",
       "      <th>def.spawn_lane_index</th>\n",
       "      <th>def.distance</th>\n",
       "      <th>def.max_steps</th>\n",
       "      <th>def.map_seq.1.radius</th>\n",
       "      <th>def.map_seq.1.angle</th>\n",
       "      <th>def.map_seq.1.length</th>\n",
       "      <th>def.map_seq.1.dir</th>\n",
       "      <th>def.map_seq.1.id</th>\n",
       "      <th>def.map_seq.1.decrease_increase</th>\n",
       "      <th>...</th>\n",
       "      <th>def.vehicles_data.vehicle_36_position_x</th>\n",
       "      <th>def.vehicles_data.vehicle_36_position_y</th>\n",
       "      <th>def.vehicles_data.vehicle_36_position_z</th>\n",
       "      <th>def.vehicles_data.vehicle_36_type</th>\n",
       "      <th>def.vehicles_data.vehicle_36_heading_theta</th>\n",
       "      <th>def.vehicles_data.vehicle_36_length</th>\n",
       "      <th>def.vehicles_data.vehicle_36_width</th>\n",
       "      <th>def.vehicles_data.vehicle_36_height</th>\n",
       "      <th>def.vehicles_data.vehicle_36_spawn_road</th>\n",
       "      <th>def.vehicles_data.vehicle_36_destination</th>\n",
       "    </tr>\n",
       "  </thead>\n",
       "  <tbody>\n",
       "    <tr>\n",
       "      <th>0</th>\n",
       "      <td>10</td>\n",
       "      <td>0</td>\n",
       "      <td>544.867698</td>\n",
       "      <td>16346</td>\n",
       "      <td>10.0</td>\n",
       "      <td>NaN</td>\n",
       "      <td>NaN</td>\n",
       "      <td>NaN</td>\n",
       "      <td>X</td>\n",
       "      <td>0.0</td>\n",
       "      <td>...</td>\n",
       "      <td>NaN</td>\n",
       "      <td>NaN</td>\n",
       "      <td>NaN</td>\n",
       "      <td>None</td>\n",
       "      <td>NaN</td>\n",
       "      <td>NaN</td>\n",
       "      <td>NaN</td>\n",
       "      <td>NaN</td>\n",
       "      <td>None</td>\n",
       "      <td>None</td>\n",
       "    </tr>\n",
       "    <tr>\n",
       "      <th>1</th>\n",
       "      <td>20</td>\n",
       "      <td>0</td>\n",
       "      <td>544.867698</td>\n",
       "      <td>16346</td>\n",
       "      <td>10.0</td>\n",
       "      <td>NaN</td>\n",
       "      <td>NaN</td>\n",
       "      <td>NaN</td>\n",
       "      <td>X</td>\n",
       "      <td>0.0</td>\n",
       "      <td>...</td>\n",
       "      <td>NaN</td>\n",
       "      <td>NaN</td>\n",
       "      <td>NaN</td>\n",
       "      <td>None</td>\n",
       "      <td>NaN</td>\n",
       "      <td>NaN</td>\n",
       "      <td>NaN</td>\n",
       "      <td>NaN</td>\n",
       "      <td>None</td>\n",
       "      <td>None</td>\n",
       "    </tr>\n",
       "    <tr>\n",
       "      <th>2</th>\n",
       "      <td>30</td>\n",
       "      <td>0</td>\n",
       "      <td>544.867698</td>\n",
       "      <td>16346</td>\n",
       "      <td>10.0</td>\n",
       "      <td>NaN</td>\n",
       "      <td>NaN</td>\n",
       "      <td>NaN</td>\n",
       "      <td>X</td>\n",
       "      <td>0.0</td>\n",
       "      <td>...</td>\n",
       "      <td>NaN</td>\n",
       "      <td>NaN</td>\n",
       "      <td>NaN</td>\n",
       "      <td>None</td>\n",
       "      <td>NaN</td>\n",
       "      <td>NaN</td>\n",
       "      <td>NaN</td>\n",
       "      <td>NaN</td>\n",
       "      <td>None</td>\n",
       "      <td>None</td>\n",
       "    </tr>\n",
       "    <tr>\n",
       "      <th>3</th>\n",
       "      <td>60</td>\n",
       "      <td>0</td>\n",
       "      <td>544.867698</td>\n",
       "      <td>16346</td>\n",
       "      <td>10.0</td>\n",
       "      <td>NaN</td>\n",
       "      <td>NaN</td>\n",
       "      <td>NaN</td>\n",
       "      <td>X</td>\n",
       "      <td>0.0</td>\n",
       "      <td>...</td>\n",
       "      <td>NaN</td>\n",
       "      <td>NaN</td>\n",
       "      <td>NaN</td>\n",
       "      <td>None</td>\n",
       "      <td>NaN</td>\n",
       "      <td>NaN</td>\n",
       "      <td>NaN</td>\n",
       "      <td>NaN</td>\n",
       "      <td>None</td>\n",
       "      <td>None</td>\n",
       "    </tr>\n",
       "  </tbody>\n",
       "</table>\n",
       "<p>4 rows × 461 columns</p>\n",
       "</div>"
      ],
      "text/plain": [
       "   fid.ads_fps  def.spawn_lane_index  def.distance  def.max_steps  \\\n",
       "0           10                     0    544.867698          16346   \n",
       "1           20                     0    544.867698          16346   \n",
       "2           30                     0    544.867698          16346   \n",
       "3           60                     0    544.867698          16346   \n",
       "\n",
       "   def.map_seq.1.radius  def.map_seq.1.angle  def.map_seq.1.length  \\\n",
       "0                  10.0                  NaN                   NaN   \n",
       "1                  10.0                  NaN                   NaN   \n",
       "2                  10.0                  NaN                   NaN   \n",
       "3                  10.0                  NaN                   NaN   \n",
       "\n",
       "   def.map_seq.1.dir def.map_seq.1.id  def.map_seq.1.decrease_increase  ...  \\\n",
       "0                NaN                X                              0.0  ...   \n",
       "1                NaN                X                              0.0  ...   \n",
       "2                NaN                X                              0.0  ...   \n",
       "3                NaN                X                              0.0  ...   \n",
       "\n",
       "   def.vehicles_data.vehicle_36_position_x  \\\n",
       "0                                      NaN   \n",
       "1                                      NaN   \n",
       "2                                      NaN   \n",
       "3                                      NaN   \n",
       "\n",
       "   def.vehicles_data.vehicle_36_position_y  \\\n",
       "0                                      NaN   \n",
       "1                                      NaN   \n",
       "2                                      NaN   \n",
       "3                                      NaN   \n",
       "\n",
       "   def.vehicles_data.vehicle_36_position_z  def.vehicles_data.vehicle_36_type  \\\n",
       "0                                      NaN                               None   \n",
       "1                                      NaN                               None   \n",
       "2                                      NaN                               None   \n",
       "3                                      NaN                               None   \n",
       "\n",
       "   def.vehicles_data.vehicle_36_heading_theta  \\\n",
       "0                                         NaN   \n",
       "1                                         NaN   \n",
       "2                                         NaN   \n",
       "3                                         NaN   \n",
       "\n",
       "   def.vehicles_data.vehicle_36_length  def.vehicles_data.vehicle_36_width  \\\n",
       "0                                  NaN                                 NaN   \n",
       "1                                  NaN                                 NaN   \n",
       "2                                  NaN                                 NaN   \n",
       "3                                  NaN                                 NaN   \n",
       "\n",
       "  def.vehicles_data.vehicle_36_height def.vehicles_data.vehicle_36_spawn_road  \\\n",
       "0                                 NaN                                    None   \n",
       "1                                 NaN                                    None   \n",
       "2                                 NaN                                    None   \n",
       "3                                 NaN                                    None   \n",
       "\n",
       "   def.vehicles_data.vehicle_36_destination  \n",
       "0                                      None  \n",
       "1                                      None  \n",
       "2                                      None  \n",
       "3                                      None  \n",
       "\n",
       "[4 rows x 461 columns]"
      ]
     },
     "execution_count": 14,
     "metadata": {},
     "output_type": "execute_result"
    }
   ],
   "source": [
    "mf_test = mf_candidates.reset_index()[X_train.columns]\n",
    "mf_test"
   ]
  },
  {
   "cell_type": "code",
   "execution_count": 15,
   "metadata": {},
   "outputs": [],
   "source": [
    "predicted_dscore, _ = get_mean_and_std_from_model(model, mf_test)"
   ]
  },
  {
   "cell_type": "code",
   "execution_count": 16,
   "metadata": {},
   "outputs": [
    {
     "data": {
      "text/plain": [
       "{10: np.float64(0.6191389426791322),\n",
       " 20: np.float64(0.6249150704586642),\n",
       " 30: np.float64(0.612561409166463),\n",
       " 60: np.float64(0.6285678102706558)}"
      ]
     },
     "execution_count": 16,
     "metadata": {},
     "output_type": "execute_result"
    }
   ],
   "source": [
    "predictions = dict(zip(FIDELITY_RANGE, predicted_dscore))\n",
    "predictions"
   ]
  },
  {
   "cell_type": "code",
   "execution_count": 17,
   "metadata": {},
   "outputs": [
    {
     "data": {
      "text/plain": [
       "np.float64(0.6285678102706558)"
      ]
     },
     "execution_count": 17,
     "metadata": {},
     "output_type": "execute_result"
    }
   ],
   "source": [
    "hf_prediction = predictions[target_fidelity]\n",
    "hf_prediction"
   ]
  },
  {
   "cell_type": "code",
   "execution_count": 18,
   "metadata": {},
   "outputs": [
    {
     "name": "stderr",
     "output_type": "stream",
     "text": [
      "\u001b[38;20m[INFO] {10: np.float64(0.6191389426791322), 20: np.float64(0.6249150704586642), 30: np.float64(0.612561409166463), 60: np.float64(0.6285678102706558)}\u001b[0m\n",
      "\u001b[38;20m[INFO] Considering 10 FPS with predicted dscore 0.619, error: 0.009\u001b[0m\n",
      "\u001b[38;20m[INFO] Picking fidelity 10 which has predicted dscore error of 0.009\u001b[0m\n"
     ]
    }
   ],
   "source": [
    "# maximum absolute error\n",
    "epsilon = 0.01\n",
    "logger.info(str(predictions))\n",
    "# go into reverse order to pick the lowest fidelity, that has acceptable error\n",
    "for fid, dscore in predictions.items():\n",
    "    error = abs(dscore - hf_prediction)\n",
    "\n",
    "    logger.info(\n",
    "        f\"Considering {fid} FPS with predicted dscore {dscore:.3f}, error: {error:.3f}\"\n",
    "    )\n",
    "\n",
    "    if error < epsilon:\n",
    "        logger.info(\n",
    "            f\"Picking fidelity {fid} which has predicted dscore error of {error:.3f}\"\n",
    "        )\n",
    "        break"
   ]
  },
  {
   "cell_type": "markdown",
   "metadata": {},
   "source": [
    "# BAYESIAN OPTIMISATION ITERATION\n"
   ]
  },
  {
   "cell_type": "code",
   "execution_count": 19,
   "metadata": {},
   "outputs": [
    {
     "name": "stderr",
     "output_type": "stream",
     "text": [
      "\u001b[38;20m[INFO] Loading benchmarking data\u001b[0m\n",
      "\u001b[38;20m[INFO] Entering Bayesian Opt Iteration with parameters:\u001b[0m\n",
      "\u001b[38;20m[INFO] N training samples 4000, aq_type = 'ucb', fidelity = 'multifidelity'\u001b[0m\n",
      "\u001b[38;20m[INFO] Current best score is: 0.063\u001b[0m\n",
      "\u001b[38;20m[INFO] Training using 461 features\u001b[0m\n",
      "\u001b[38;20m[INFO] Best from model: 0.294\u001b[0m\n",
      "\u001b[38;20m[INFO] Maximum fitness: 0.706\u001b[0m\n",
      "\u001b[38;20m[INFO] Maximum UCB: 0.968\u001b[0m\n",
      "\u001b[38;20m[INFO] Next seed to evaluate: 1007972\u001b[0m\n",
      "\u001b[38;20m[INFO] Picking next fidelity!\u001b[0m\n",
      "\u001b[38;20m[INFO] Predicted dscore for high fidelity: 0.307\u001b[0m\n",
      "\u001b[38;20m[INFO] {10: np.float64(0.25223350850260146), 20: np.float64(0.25978930686164897), 30: np.float64(0.26706157243788403), 60: np.float64(0.30748069489502794)}\u001b[0m\n",
      "\u001b[38;20m[INFO] Considering 10 FPS with predicted dscore = 0.252, error = 0.055\u001b[0m\n",
      "\u001b[38;20m[INFO] Considering 20 FPS with predicted dscore = 0.260, error = 0.048\u001b[0m\n",
      "\u001b[38;20m[INFO] Considering 30 FPS with predicted dscore = 0.267, error = 0.040\u001b[0m\n",
      "\u001b[38;20m[INFO] Considering 60 FPS with predicted dscore = 0.307, error = 0.000\u001b[0m\n",
      "\u001b[38;20m[INFO] Picking fidelity 60 with dscore error of 0.000\u001b[0m\n"
     ]
    },
    {
     "data": {
      "text/plain": [
       "(1007972, 60)"
      ]
     },
     "execution_count": 19,
     "metadata": {},
     "output_type": "execute_result"
    }
   ],
   "source": [
    "def pick_next_fidelity(\n",
    "    next_cadidate: pd.DataFrame, scenario_features, trained_model, epsilon=0.01\n",
    ") -> int:\n",
    "    \"\"\"\n",
    "    Given chosed scenario decide which fidelity is safe to run.\n",
    "    Returns fidelity.\n",
    "    \"\"\"\n",
    "    logger.info(f\"Picking next fidelity!\")\n",
    "    mf_candidates = pd.concat([next_cadidate] * len(FIDELITY_RANGE))\n",
    "    mf_candidates[\"fid.ads_fps\"] = FIDELITY_RANGE\n",
    "\n",
    "    mf_X_test = mf_candidates.reset_index()[scenario_features]\n",
    "\n",
    "    # predict dscore for each fidelity\n",
    "    predicted_dscore, _ = get_mean_and_std_from_model(trained_model, mf_X_test)\n",
    "\n",
    "    predictions = dict(zip(FIDELITY_RANGE, predicted_dscore))\n",
    "\n",
    "    hf_prediction = predictions[max(FIDELITY_RANGE)]\n",
    "    logger.info(f\"Predicted dscore for high fidelity: {hf_prediction:.3f}\")\n",
    "    logger.info(str(predictions))\n",
    "\n",
    "    # go into increasing fidelity order\n",
    "    for fid, dscore in predictions.items():\n",
    "        # maximum absolute error\n",
    "        error = abs(dscore - hf_prediction)\n",
    "        logger.info(f\"Considering {fid} FPS with predicted {dscore = :.3f}, {error = :.3f}\")\n",
    "\n",
    "        if error < epsilon:\n",
    "            logger.info(f\"Picking fidelity {fid} with dscore error of {error:.3f}\")\n",
    "            return fid\n",
    "\n",
    "    raise ValueError(\"No fidelity with acceptable error found\")\n",
    "\n",
    "\n",
    "def bayes_opt_iteration(train_df, aq_type=\"ei\", fidelity=\"multifidelity\") -> Tuple[int, int]:\n",
    "    \"\"\"\n",
    "    Performs a single iteration of Bayesian Otpimisation\n",
    "    Returns next scenario seed, and next fidelity to run.\n",
    "\n",
    "    \"\"\"\n",
    "\n",
    "    logger.info(f\"Entering Bayesian Opt Iteration with parameters:\")\n",
    "    logger.info(f\"N training samples {len(train_df)}, {aq_type = }, {fidelity = }\")\n",
    "    target_fidelity = fidelity\n",
    "    if fidelity == \"multifidelity\":\n",
    "        target_fidelity = max(FIDELITY_RANGE)\n",
    "\n",
    "    # PREPARE TRAINING DATA\n",
    "    X_train = preprocess_features(train_df)\n",
    "    y_train = train_df[\"eval.driving_score\"]\n",
    "\n",
    "    if target_fidelity not in train_df.index.get_level_values(\"fid.ads_fps\"):\n",
    "        logger.warning(f\"Target fidelity is not present in training set.\")\n",
    "        logger.warning(f\"Will run target fidelity now!\")\n",
    "        return get_random_scenario_seed(get_candidate_solutions()), target_fidelity\n",
    "\n",
    "    current_best = y_train.xs(target_fidelity).min()\n",
    "    logger.info(f\"Current best score is: {current_best:.3f}\")\n",
    "\n",
    "    # TRAIN THE MODEL\n",
    "    pipe = regression_pipeline(X_train)\n",
    "    logger.info(f\"Training using {len(X_train.columns)} features\")\n",
    "    pipe.set_params(regressor__n_jobs=16)\n",
    "    model = pipe.fit(X_train, y_train)\n",
    "    logger.debug(f\"Model trained\")\n",
    "\n",
    "    # PREPARE TEST DATA\n",
    "    candidate_scenarios = get_candidate_solutions()\n",
    "    # Exclude scenarios that have been evaluated (in any fidelity)\n",
    "    candidate_scenarios = candidate_scenarios[\n",
    "        ~candidate_scenarios.index.isin(train_df.index.get_level_values(\"def.seed\"))\n",
    "    ]\n",
    "    logger.debug(f\"Considering next scenario from {len(candidate_scenarios)} candidates.\")\n",
    "\n",
    "    X_test = preprocess_features(candidate_scenarios)\n",
    "    # test candidates must be casted to target fidelity\n",
    "    X_test[\"fid.ads_fps\"] = target_fidelity\n",
    "    X_test = X_test[X_train.columns]\n",
    "\n",
    "    # PREDICT DSCORE FOR HIGHFIDELITY\n",
    "    dscore_predictions, std = get_mean_and_std_from_model(model, X_test)\n",
    "    logger.info(f\"Best from model: {dscore_predictions.min():.3f}\")\n",
    "\n",
    "    match aq_type:\n",
    "        case \"ei\":\n",
    "            aq = expected_improvement(dscore_predictions, std, current_best)\n",
    "        case \"ucb\":\n",
    "            aq = upper_confidence_bound(dscore_predictions, std)\n",
    "        case _:\n",
    "            raise ValueError(\"Invalid acquisition function\")\n",
    "\n",
    "    next_seed = int(get_next_scenario_seed_from_aq(aq, candidate_scenarios))\n",
    "    logger.info(f\"Next seed to evaluate: {next_seed}\")\n",
    "\n",
    "    if fidelity != \"multifidelity\":\n",
    "        return next_seed, target_fidelity\n",
    "\n",
    "    logger.debug(f\"Multifidelity enabled\")\n",
    "\n",
    "    next_cadidate = candidate_scenarios.loc[[next_seed]]\n",
    "    next_fidelity = pick_next_fidelity(next_cadidate, X_train.columns, model)\n",
    "    assert next_fidelity in FIDELITY_RANGE\n",
    "    return next_seed, next_fidelity\n",
    "\n",
    "\n",
    "bayes_opt_iteration(get_training_data(), aq_type=\"ucb\", fidelity=\"multifidelity\")"
   ]
  },
  {
   "cell_type": "markdown",
   "metadata": {},
   "source": [
    "## Test reading search data\n"
   ]
  },
  {
   "cell_type": "code",
   "execution_count": 20,
   "metadata": {},
   "outputs": [
    {
     "name": "stderr",
     "output_type": "stream",
     "text": [
      "\u001b[38;20m[INFO] Loading search data from /media/olek/2TB_HDD/metadrive-data/searches/bayesopt_ucb/10/0\u001b[0m\n"
     ]
    },
    {
     "data": {
      "application/vnd.jupyter.widget-view+json": {
       "model_id": "37a06a920f894c35928b818a671c1dcb",
       "version_major": 2,
       "version_minor": 0
      },
      "text/plain": [
       "  0%|          | 0/4 [00:00<?, ?it/s]"
      ]
     },
     "metadata": {},
     "output_type": "display_data"
    },
    {
     "name": "stderr",
     "output_type": "stream",
     "text": [
      "\u001b[38;20m[INFO] Entering Bayesian Opt Iteration with parameters:\u001b[0m\n",
      "\u001b[38;20m[INFO] N training samples 4, aq_type = 'ucb', fidelity = 'multifidelity'\u001b[0m\n",
      "\u001b[33;20m[WARNING] Target fidelity is not present in training set. (352163620.py:54)\u001b[0m\n",
      "\u001b[33;20m[WARNING] Will run target fidelity now! (352163620.py:55)\u001b[0m\n"
     ]
    },
    {
     "data": {
      "text/plain": [
       "(np.int64(1003582), 60)"
      ]
     },
     "execution_count": 20,
     "metadata": {},
     "output_type": "execute_result"
    }
   ],
   "source": [
    "rep_path = Path(\"/media/olek/2TB_HDD/metadrive-data/searches/bayesopt_ucb/10/0\")\n",
    "train_df = get_training_data(rep_path=rep_path)\n",
    "target_fidelity = 60\n",
    "\n",
    "bayes_opt_iteration(train_df, aq_type=\"ucb\", fidelity=\"multifidelity\")"
   ]
  },
  {
   "cell_type": "markdown",
   "metadata": {},
   "source": [
    "## Random fidelity simualtion\n"
   ]
  },
  {
   "cell_type": "code",
   "execution_count": 21,
   "metadata": {},
   "outputs": [
    {
     "name": "stderr",
     "output_type": "stream",
     "text": [
      "\u001b[38;20m[INFO] Random budget: 60.0\u001b[0m\n",
      "\u001b[38;20m[INFO] Chosen fidelity 30FPS\u001b[0m\n",
      "\u001b[38;20m[INFO] Chosen fidelity 10FPS\u001b[0m\n",
      "\u001b[38;20m[INFO] Chosen fidelity 60FPS\u001b[0m\n",
      "\u001b[38;20m[INFO] Chosen fidelity 20FPS\u001b[0m\n",
      "\u001b[38;20m[INFO] Chosen fidelity 20FPS\u001b[0m\n",
      "\u001b[38;20m[INFO] Chosen fidelity 20FPS\u001b[0m\n",
      "\u001b[38;20m[INFO] Chosen fidelity 30FPS\u001b[0m\n",
      "\u001b[38;20m[INFO] Chosen fidelity 30FPS\u001b[0m\n",
      "\u001b[38;20m[INFO] Chosen fidelity 10FPS\u001b[0m\n",
      "\u001b[38;20m[INFO] Chosen fidelity 60FPS\u001b[0m\n",
      "\u001b[38;20m[INFO] Chosen fidelity 10FPS\u001b[0m\n",
      "\u001b[38;20m[INFO] Chosen fidelity 60FPS\u001b[0m\n",
      "\u001b[38;20m[INFO] Chosen fidelity 30FPS\u001b[0m\n",
      "\u001b[38;20m[INFO] Chosen fidelity 30FPS\u001b[0m\n",
      "\u001b[38;20m[INFO] Chosen fidelity 60FPS\u001b[0m\n",
      "\u001b[38;20m[INFO] Chosen fidelity 10FPS\u001b[0m\n",
      "\u001b[38;20m[INFO] Chosen fidelity 10FPS\u001b[0m\n",
      "\u001b[38;20m[INFO] Chosen fidelity 10FPS\u001b[0m\n",
      "\u001b[38;20m[INFO] Chosen fidelity 60FPS\u001b[0m\n",
      "\u001b[38;20m[INFO] Chosen fidelity 10FPS\u001b[0m\n",
      "\u001b[38;20m[INFO] Chosen fidelity 60FPS\u001b[0m\n"
     ]
    }
   ],
   "source": [
    "import random\n",
    "\n",
    "BUDGET = 600\n",
    "RANDOM_BUDGET = 0.10 * BUDGET\n",
    "logger.info(f\"Random budget: {RANDOM_BUDGET}\")\n",
    "\n",
    "while RANDOM_BUDGET > 0:\n",
    "    fid = random.choice(FIDELITY_RANGE)\n",
    "    logger.info(f\"Chosen fidelity {fid}FPS\")\n",
    "    RANDOM_BUDGET -= fid // 10"
   ]
  }
 ],
 "metadata": {
  "kernelspec": {
   "display_name": "metadrive-env",
   "language": "python",
   "name": "python3"
  },
  "language_info": {
   "codemirror_mode": {
    "name": "ipython",
    "version": 3
   },
   "file_extension": ".py",
   "mimetype": "text/x-python",
   "name": "python",
   "nbconvert_exporter": "python",
   "pygments_lexer": "ipython3",
   "version": "3.12.9"
  }
 },
 "nbformat": 4,
 "nbformat_minor": 2
}
