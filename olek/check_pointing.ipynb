{
 "cells": [
  {
   "cell_type": "code",
   "execution_count": 1,
   "metadata": {},
   "outputs": [],
   "source": [
    "from utils.bayesian_optimisation import SEARCH_FIDELITIES, SEARCH_TYPES, HDD_PATH\n",
    "from itertools import count, product\n",
    "from pathlib import Path\n",
    "import sys\n",
    "import json"
   ]
  },
  {
   "cell_type": "code",
   "execution_count": 6,
   "metadata": {},
   "outputs": [
    {
     "data": {
      "text/plain": [
       "PosixPath('/media/olek/8TB_HDD/metadrive-data/epsilon-fidelity/searches')"
      ]
     },
     "execution_count": 6,
     "metadata": {},
     "output_type": "execute_result"
    }
   ],
   "source": [
    "DATA_DIR = Path(\"/media/olek/8TB_HDD/metadrive-data\")\n",
    "SEARCH_DIR = DATA_DIR / \"epsilon-fidelity\" / \"searches\"\n",
    "assert SEARCH_DIR.exists()\n",
    "SEARCH_DIR"
   ]
  },
  {
   "cell_type": "code",
   "execution_count": 7,
   "metadata": {},
   "outputs": [],
   "source": [
    "checkpoint_file = SEARCH_DIR / \"checkpoints.txt\"\n",
    "assert checkpoint_file.exists()"
   ]
  },
  {
   "cell_type": "code",
   "execution_count": 8,
   "metadata": {},
   "outputs": [
    {
     "name": "stdout",
     "output_type": "stream",
     "text": [
      "We finished 257 reps.\n"
     ]
    }
   ],
   "source": [
    "with open(checkpoint_file, \"r\") as f:\n",
    "    checkpoints = f.readlines()\n",
    "\n",
    "\n",
    "finished_rep_paths = set([Path(rep.split(\" \")[2]) for rep in checkpoints])\n",
    "print(f\"We finished {len(finished_rep_paths)} reps.\")"
   ]
  },
  {
   "cell_type": "code",
   "execution_count": 9,
   "metadata": {},
   "outputs": [
    {
     "name": "stdout",
     "output_type": "stream",
     "text": [
      "There are 267 reps path in total\n"
     ]
    }
   ],
   "source": [
    "all_rep_paths = set(SEARCH_DIR.glob(\"*/*/*\"))\n",
    "print(f\"There are {len(all_rep_paths)} reps path in total\")"
   ]
  },
  {
   "cell_type": "code",
   "execution_count": 10,
   "metadata": {},
   "outputs": [
    {
     "data": {
      "text/plain": [
       "[PosixPath('/media/olek/8TB_HDD/metadrive-data/epsilon-fidelity/searches/bayesopt_ucb/multifidelity_0.40/22'),\n",
       " PosixPath('/media/olek/8TB_HDD/metadrive-data/epsilon-fidelity/searches/bayesopt_ucb/multifidelity_0.20/23'),\n",
       " PosixPath('/media/olek/8TB_HDD/metadrive-data/epsilon-fidelity/searches/bayesopt_ucb/multifidelity_0.30/19'),\n",
       " PosixPath('/media/olek/8TB_HDD/metadrive-data/epsilon-fidelity/searches/bayesopt_ucb/multifidelity_0.10/24'),\n",
       " PosixPath('/media/olek/8TB_HDD/metadrive-data/epsilon-fidelity/searches/bayesopt_ucb/multifidelity_0.30/25'),\n",
       " PosixPath('/media/olek/8TB_HDD/metadrive-data/epsilon-fidelity/searches/bayesopt_ucb/multifidelity_0.40/24'),\n",
       " PosixPath('/media/olek/8TB_HDD/metadrive-data/epsilon-fidelity/searches/bayesopt_ucb/multifidelity_0.00/22'),\n",
       " PosixPath('/media/olek/8TB_HDD/metadrive-data/epsilon-fidelity/searches/bayesopt_ucb/multifidelity_0.35/18'),\n",
       " PosixPath('/media/olek/8TB_HDD/metadrive-data/epsilon-fidelity/searches/bayesopt_ucb/multifidelity_0.15/20'),\n",
       " PosixPath('/media/olek/8TB_HDD/metadrive-data/epsilon-fidelity/searches/bayesopt_ucb/multifidelity_0.10/21')]"
      ]
     },
     "execution_count": 10,
     "metadata": {},
     "output_type": "execute_result"
    }
   ],
   "source": [
    "import shutil\n",
    "\n",
    "unfinished = list(all_rep_paths - finished_rep_paths)\n",
    "unfinished"
   ]
  },
  {
   "cell_type": "code",
   "execution_count": 11,
   "metadata": {},
   "outputs": [
    {
     "name": "stdout",
     "output_type": "stream",
     "text": [
      "Deleting /media/olek/8TB_HDD/metadrive-data/epsilon-fidelity/searches/bayesopt_ucb/multifidelity_0.40/22\n",
      "Deleting /media/olek/8TB_HDD/metadrive-data/epsilon-fidelity/searches/bayesopt_ucb/multifidelity_0.20/23\n",
      "Deleting /media/olek/8TB_HDD/metadrive-data/epsilon-fidelity/searches/bayesopt_ucb/multifidelity_0.30/19\n",
      "Deleting /media/olek/8TB_HDD/metadrive-data/epsilon-fidelity/searches/bayesopt_ucb/multifidelity_0.10/24\n",
      "Deleting /media/olek/8TB_HDD/metadrive-data/epsilon-fidelity/searches/bayesopt_ucb/multifidelity_0.30/25\n",
      "Deleting /media/olek/8TB_HDD/metadrive-data/epsilon-fidelity/searches/bayesopt_ucb/multifidelity_0.40/24\n",
      "Deleting /media/olek/8TB_HDD/metadrive-data/epsilon-fidelity/searches/bayesopt_ucb/multifidelity_0.00/22\n",
      "Deleting /media/olek/8TB_HDD/metadrive-data/epsilon-fidelity/searches/bayesopt_ucb/multifidelity_0.35/18\n",
      "Deleting /media/olek/8TB_HDD/metadrive-data/epsilon-fidelity/searches/bayesopt_ucb/multifidelity_0.15/20\n",
      "Deleting /media/olek/8TB_HDD/metadrive-data/epsilon-fidelity/searches/bayesopt_ucb/multifidelity_0.10/21\n"
     ]
    }
   ],
   "source": [
    "for unfinished_search in unfinished:\n",
    "    print(f\"Deleting {unfinished_search}\")\n",
    "    shutil.rmtree(unfinished_search)"
   ]
  }
 ],
 "metadata": {
  "kernelspec": {
   "display_name": "metadrive-env",
   "language": "python",
   "name": "python3"
  },
  "language_info": {
   "codemirror_mode": {
    "name": "ipython",
    "version": 3
   },
   "file_extension": ".py",
   "mimetype": "text/x-python",
   "name": "python",
   "nbconvert_exporter": "python",
   "pygments_lexer": "ipython3",
   "version": "3.12.9"
  }
 },
 "nbformat": 4,
 "nbformat_minor": 2
}
