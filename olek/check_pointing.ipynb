{
 "cells": [
  {
   "cell_type": "code",
   "execution_count": 1,
   "metadata": {},
   "outputs": [
    {
     "name": "stderr",
     "output_type": "stream",
     "text": [
      "/home/olek/miniconda3/envs/metadrive-env/lib/python3.12/site-packages/torch/cuda/__init__.py:174: UserWarning: CUDA initialization: Unexpected error from cudaGetDeviceCount(). Did you run some cuda functions before calling NumCudaDevices() that might have already set an error? Error 804: forward compatibility was attempted on non supported HW (Triggered internally at /pytorch/c10/cuda/CUDAFunctions.cpp:109.)\n",
      "  return torch._C._cuda_getDeviceCount() > 0\n"
     ]
    }
   ],
   "source": [
    "from utils.bayesian_optimisation import SEARCH_FIDELITIES, SEARCH_TYPES, HDD_PATH\n",
    "from itertools import count, product\n",
    "from pathlib import Path\n",
    "import sys\n",
    "import json"
   ]
  },
  {
   "cell_type": "code",
   "execution_count": 2,
   "metadata": {},
   "outputs": [],
   "source": [
    "SEARCH_DIR = Path(\"/home/olek/mf-paper/shift-fidelity\") / \"searches\"\n",
    "assert SEARCH_DIR.exists()"
   ]
  },
  {
   "cell_type": "code",
   "execution_count": 3,
   "metadata": {},
   "outputs": [
    {
     "data": {
      "text/plain": [
       "True"
      ]
     },
     "execution_count": 3,
     "metadata": {},
     "output_type": "execute_result"
    }
   ],
   "source": [
    "checkpoint_file = SEARCH_DIR / \"checkpoints.txt\"\n",
    "checkpoint_file.exists()"
   ]
  },
  {
   "cell_type": "code",
   "execution_count": 4,
   "metadata": {},
   "outputs": [
    {
     "name": "stdout",
     "output_type": "stream",
     "text": [
      "We finished 60 reps.\n"
     ]
    }
   ],
   "source": [
    "with open(checkpoint_file, \"r\") as f:\n",
    "    checkpoints = f.readlines()\n",
    "\n",
    "\n",
    "finished_rep_paths = set([Path(rep.split(\" \")[2]) for rep in checkpoints])\n",
    "print(f\"We finished {len(finished_rep_paths)} reps.\")"
   ]
  },
  {
   "cell_type": "code",
   "execution_count": 5,
   "metadata": {},
   "outputs": [
    {
     "name": "stdout",
     "output_type": "stream",
     "text": [
      "There are 60 reps path in total\n"
     ]
    }
   ],
   "source": [
    "all_rep_paths = set(SEARCH_DIR.glob(\"*/*/*\"))\n",
    "print(f\"There are {len(all_rep_paths)} reps path in total\")"
   ]
  },
  {
   "cell_type": "code",
   "execution_count": 6,
   "metadata": {},
   "outputs": [],
   "source": [
    "import shutil\n",
    "\n",
    "unfinished = list(all_rep_paths - finished_rep_paths)\n",
    "\n",
    "for unfinished_search in unfinished:\n",
    "    print(f\"Deleting {unfinished_search}\")\n",
    "    shutil.rmtree(unfinished_search)"
   ]
  }
 ],
 "metadata": {
  "kernelspec": {
   "display_name": "metadrive-env",
   "language": "python",
   "name": "python3"
  },
  "language_info": {
   "codemirror_mode": {
    "name": "ipython",
    "version": 3
   },
   "file_extension": ".py",
   "mimetype": "text/x-python",
   "name": "python",
   "nbconvert_exporter": "python",
   "pygments_lexer": "ipython3",
   "version": "3.12.9"
  }
 },
 "nbformat": 4,
 "nbformat_minor": 2
}
