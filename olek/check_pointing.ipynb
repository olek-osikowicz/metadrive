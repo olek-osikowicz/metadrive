{
 "cells": [
  {
   "cell_type": "code",
   "execution_count": 2,
   "metadata": {},
   "outputs": [],
   "source": [
    "from utils.bayesian_optimisation import SEARCH_FIDELITIES, SEARCH_TYPES, HDD_PATH\n",
    "from itertools import count, product\n",
    "from pathlib import Path\n",
    "import sys\n",
    "import json"
   ]
  },
  {
   "cell_type": "code",
   "execution_count": null,
   "metadata": {},
   "outputs": [
    {
     "data": {
      "text/plain": [
       "PosixPath('/home/olek/Documents/dev/metadrive-multifidelity-data/data/epsilon-fidelity/searches')"
      ]
     },
     "execution_count": 7,
     "metadata": {},
     "output_type": "execute_result"
    }
   ],
   "source": [
    "DATA_DIR = Path(\"/home/olek/Documents/dev/metadrive-multifidelity-data/data\")\n",
    "SEARCH_DIR = DATA_DIR / \"epsilon-fidelity\" / \"searches\"\n",
    "assert SEARCH_DIR.exists()\n",
    "SEARCH_DIR"
   ]
  },
  {
   "cell_type": "code",
   "execution_count": 8,
   "metadata": {},
   "outputs": [],
   "source": [
    "checkpoint_file = SEARCH_DIR / \"checkpoints.txt\"\n",
    "assert checkpoint_file.exists()"
   ]
  },
  {
   "cell_type": "code",
   "execution_count": 9,
   "metadata": {},
   "outputs": [
    {
     "name": "stdout",
     "output_type": "stream",
     "text": [
      "We finished 50 reps.\n"
     ]
    }
   ],
   "source": [
    "with open(checkpoint_file, \"r\") as f:\n",
    "    checkpoints = f.readlines()\n",
    "\n",
    "\n",
    "finished_rep_paths = set([Path(rep.split(\" \")[2]) for rep in checkpoints])\n",
    "print(f\"We finished {len(finished_rep_paths)} reps.\")"
   ]
  },
  {
   "cell_type": "code",
   "execution_count": 10,
   "metadata": {},
   "outputs": [
    {
     "name": "stdout",
     "output_type": "stream",
     "text": [
      "There are 60 reps path in total\n"
     ]
    }
   ],
   "source": [
    "all_rep_paths = set(SEARCH_DIR.glob(\"*/*/*\"))\n",
    "print(f\"There are {len(all_rep_paths)} reps path in total\")"
   ]
  },
  {
   "cell_type": "code",
   "execution_count": 11,
   "metadata": {},
   "outputs": [
    {
     "data": {
      "text/plain": [
       "[PosixPath('/home/olek/Documents/dev/metadrive-multifidelity-data/data/epsilon-fidelity/searches/bayesopt_ucb/multifidelity/21'),\n",
       " PosixPath('/home/olek/Documents/dev/metadrive-multifidelity-data/data/epsilon-fidelity/searches/bayesopt_ucb/multifidelity/25'),\n",
       " PosixPath('/home/olek/Documents/dev/metadrive-multifidelity-data/data/epsilon-fidelity/searches/bayesopt_ucb/multifidelity/29'),\n",
       " PosixPath('/home/olek/Documents/dev/metadrive-multifidelity-data/data/epsilon-fidelity/searches/bayesopt_ucb/multifidelity/27'),\n",
       " PosixPath('/home/olek/Documents/dev/metadrive-multifidelity-data/data/epsilon-fidelity/searches/bayesopt_ucb/multifidelity/22'),\n",
       " PosixPath('/home/olek/Documents/dev/metadrive-multifidelity-data/data/epsilon-fidelity/searches/bayesopt_ucb/multifidelity/20'),\n",
       " PosixPath('/home/olek/Documents/dev/metadrive-multifidelity-data/data/epsilon-fidelity/searches/bayesopt_ucb/multifidelity/26'),\n",
       " PosixPath('/home/olek/Documents/dev/metadrive-multifidelity-data/data/epsilon-fidelity/searches/bayesopt_ucb/multifidelity/28'),\n",
       " PosixPath('/home/olek/Documents/dev/metadrive-multifidelity-data/data/epsilon-fidelity/searches/bayesopt_ucb/multifidelity/24'),\n",
       " PosixPath('/home/olek/Documents/dev/metadrive-multifidelity-data/data/epsilon-fidelity/searches/bayesopt_ucb/multifidelity/23')]"
      ]
     },
     "execution_count": 11,
     "metadata": {},
     "output_type": "execute_result"
    }
   ],
   "source": [
    "import shutil\n",
    "\n",
    "unfinished = list(all_rep_paths - finished_rep_paths)\n",
    "unfinished"
   ]
  },
  {
   "cell_type": "code",
   "execution_count": 12,
   "metadata": {},
   "outputs": [
    {
     "name": "stdout",
     "output_type": "stream",
     "text": [
      "Deleting /home/olek/Documents/dev/metadrive-multifidelity-data/data/epsilon-fidelity/searches/bayesopt_ucb/multifidelity/21\n",
      "Deleting /home/olek/Documents/dev/metadrive-multifidelity-data/data/epsilon-fidelity/searches/bayesopt_ucb/multifidelity/25\n",
      "Deleting /home/olek/Documents/dev/metadrive-multifidelity-data/data/epsilon-fidelity/searches/bayesopt_ucb/multifidelity/29\n",
      "Deleting /home/olek/Documents/dev/metadrive-multifidelity-data/data/epsilon-fidelity/searches/bayesopt_ucb/multifidelity/27\n",
      "Deleting /home/olek/Documents/dev/metadrive-multifidelity-data/data/epsilon-fidelity/searches/bayesopt_ucb/multifidelity/22\n",
      "Deleting /home/olek/Documents/dev/metadrive-multifidelity-data/data/epsilon-fidelity/searches/bayesopt_ucb/multifidelity/20\n",
      "Deleting /home/olek/Documents/dev/metadrive-multifidelity-data/data/epsilon-fidelity/searches/bayesopt_ucb/multifidelity/26\n",
      "Deleting /home/olek/Documents/dev/metadrive-multifidelity-data/data/epsilon-fidelity/searches/bayesopt_ucb/multifidelity/28\n",
      "Deleting /home/olek/Documents/dev/metadrive-multifidelity-data/data/epsilon-fidelity/searches/bayesopt_ucb/multifidelity/24\n",
      "Deleting /home/olek/Documents/dev/metadrive-multifidelity-data/data/epsilon-fidelity/searches/bayesopt_ucb/multifidelity/23\n"
     ]
    }
   ],
   "source": [
    "for unfinished_search in unfinished:\n",
    "    print(f\"Deleting {unfinished_search}\")\n",
    "    shutil.rmtree(unfinished_search)"
   ]
  }
 ],
 "metadata": {
  "kernelspec": {
   "display_name": "metadrive-env",
   "language": "python",
   "name": "python3"
  },
  "language_info": {
   "codemirror_mode": {
    "name": "ipython",
    "version": 3
   },
   "file_extension": ".py",
   "mimetype": "text/x-python",
   "name": "python",
   "nbconvert_exporter": "python",
   "pygments_lexer": "ipython3",
   "version": "3.12.9"
  }
 },
 "nbformat": 4,
 "nbformat_minor": 2
}
