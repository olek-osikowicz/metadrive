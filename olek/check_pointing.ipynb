{
 "cells": [
  {
   "cell_type": "code",
   "execution_count": 7,
   "metadata": {},
   "outputs": [],
   "source": [
    "from utils.bayesian_optimisation import SEARCH_FIDELITIES, SEARCH_TYPES, HDD_PATH\n",
    "from itertools import count, product\n",
    "from pathlib import Path\n",
    "import sys\n",
    "import json"
   ]
  },
  {
   "cell_type": "code",
   "execution_count": 8,
   "metadata": {},
   "outputs": [],
   "source": [
    "SEARCH_DIR = Path(\"/media/olek/8TB_HDD/metadrive-data/allow-repeat/searches/\")\n",
    "assert SEARCH_DIR.exists()"
   ]
  },
  {
   "cell_type": "code",
   "execution_count": 9,
   "metadata": {},
   "outputs": [],
   "source": [
    "checkpoint_file = SEARCH_DIR / \"checkpoints.txt\""
   ]
  },
  {
   "cell_type": "code",
   "execution_count": 10,
   "metadata": {},
   "outputs": [
    {
     "name": "stdout",
     "output_type": "stream",
     "text": [
      "We finished 20 reps.\n"
     ]
    }
   ],
   "source": [
    "with open(checkpoint_file, \"r\") as f:\n",
    "    checkpoints = f.readlines()\n",
    "\n",
    "\n",
    "finished_rep_paths = set([Path(rep.split(\" \")[2]) for rep in checkpoints])\n",
    "print(f\"We finished {len(finished_rep_paths)} reps.\")"
   ]
  },
  {
   "cell_type": "code",
   "execution_count": 11,
   "metadata": {},
   "outputs": [
    {
     "name": "stdout",
     "output_type": "stream",
     "text": [
      "There are 30 reps path in total\n"
     ]
    }
   ],
   "source": [
    "all_rep_paths = set(SEARCH_DIR.glob(\"*/*/*\"))\n",
    "print(f\"There are {len(all_rep_paths)} reps path in total\")"
   ]
  },
  {
   "cell_type": "code",
   "execution_count": 12,
   "metadata": {},
   "outputs": [
    {
     "name": "stdout",
     "output_type": "stream",
     "text": [
      "Deleting /media/olek/8TB_HDD/metadrive-data/allow-repeat/searches/bayesopt_ucb/10/9\n",
      "Deleting /media/olek/8TB_HDD/metadrive-data/allow-repeat/searches/bayesopt_ucb/10/7\n",
      "Deleting /media/olek/8TB_HDD/metadrive-data/allow-repeat/searches/bayesopt_ucb/10/6\n",
      "Deleting /media/olek/8TB_HDD/metadrive-data/allow-repeat/searches/bayesopt_ucb/10/3\n",
      "Deleting /media/olek/8TB_HDD/metadrive-data/allow-repeat/searches/bayesopt_ucb/10/5\n",
      "Deleting /media/olek/8TB_HDD/metadrive-data/allow-repeat/searches/bayesopt_ucb/10/0\n",
      "Deleting /media/olek/8TB_HDD/metadrive-data/allow-repeat/searches/bayesopt_ucb/10/1\n",
      "Deleting /media/olek/8TB_HDD/metadrive-data/allow-repeat/searches/bayesopt_ucb/10/4\n",
      "Deleting /media/olek/8TB_HDD/metadrive-data/allow-repeat/searches/bayesopt_ucb/10/2\n",
      "Deleting /media/olek/8TB_HDD/metadrive-data/allow-repeat/searches/bayesopt_ucb/10/8\n"
     ]
    }
   ],
   "source": [
    "import shutil\n",
    "\n",
    "unfinished = list(all_rep_paths - finished_rep_paths)\n",
    "\n",
    "for unfinished_search in unfinished:\n",
    "    print(f\"Deleting {unfinished_search}\")\n",
    "    shutil.rmtree(unfinished_search)"
   ]
  }
 ],
 "metadata": {
  "kernelspec": {
   "display_name": "metadrive-env",
   "language": "python",
   "name": "python3"
  },
  "language_info": {
   "codemirror_mode": {
    "name": "ipython",
    "version": 3
   },
   "file_extension": ".py",
   "mimetype": "text/x-python",
   "name": "python",
   "nbconvert_exporter": "python",
   "pygments_lexer": "ipython3",
   "version": "3.12.9"
  }
 },
 "nbformat": 4,
 "nbformat_minor": 2
}
