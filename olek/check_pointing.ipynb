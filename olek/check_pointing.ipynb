{
 "cells": [
  {
   "cell_type": "code",
   "execution_count": 1,
   "metadata": {},
   "outputs": [],
   "source": [
    "from utils.bayesian_optimisation import SEARCH_FIDELITIES, SEARCH_TYPES, HDD_PATH\n",
    "from itertools import count, product\n",
    "from pathlib import Path\n",
    "import sys\n",
    "import json"
   ]
  },
  {
   "cell_type": "code",
   "execution_count": 2,
   "metadata": {},
   "outputs": [],
   "source": [
    "SEARCH_DIR = Path(\"/media/olek/8TB_HDD/metadrive-data/allow-repeat/searches/\")\n",
    "assert SEARCH_DIR.exists()"
   ]
  },
  {
   "cell_type": "code",
   "execution_count": 3,
   "metadata": {},
   "outputs": [],
   "source": [
    "checkpoint_file = SEARCH_DIR / \"checkpoints.txt\""
   ]
  },
  {
   "cell_type": "code",
   "execution_count": 4,
   "metadata": {},
   "outputs": [
    {
     "name": "stdout",
     "output_type": "stream",
     "text": [
      "We finished 34 reps.\n"
     ]
    }
   ],
   "source": [
    "with open(checkpoint_file, \"r\") as f:\n",
    "    checkpoints = f.readlines()\n",
    "\n",
    "\n",
    "finished_rep_paths = set([Path(rep.split(\" \")[2]) for rep in checkpoints])\n",
    "print(f\"We finished {len(finished_rep_paths)} reps.\")"
   ]
  },
  {
   "cell_type": "code",
   "execution_count": 5,
   "metadata": {},
   "outputs": [
    {
     "name": "stdout",
     "output_type": "stream",
     "text": [
      "There are 44 reps path in total\n"
     ]
    }
   ],
   "source": [
    "all_rep_paths = set(SEARCH_DIR.glob(\"*/*/*\"))\n",
    "print(f\"There are {len(all_rep_paths)} reps path in total\")"
   ]
  },
  {
   "cell_type": "code",
   "execution_count": 6,
   "metadata": {},
   "outputs": [
    {
     "name": "stdout",
     "output_type": "stream",
     "text": [
      "Deleting /media/olek/8TB_HDD/metadrive-data/allow-repeat/searches/bayesopt_ucb/60/10\n",
      "Deleting /media/olek/8TB_HDD/metadrive-data/allow-repeat/searches/bayesopt_ucb/multifidelity/18\n",
      "Deleting /media/olek/8TB_HDD/metadrive-data/allow-repeat/searches/bayesopt_ucb/multifidelity/14\n",
      "Deleting /media/olek/8TB_HDD/metadrive-data/allow-repeat/searches/bayesopt_ucb/multifidelity/16\n",
      "Deleting /media/olek/8TB_HDD/metadrive-data/allow-repeat/searches/bayesopt_ucb/multifidelity/17\n",
      "Deleting /media/olek/8TB_HDD/metadrive-data/allow-repeat/searches/bayesopt_ucb/60/11\n",
      "Deleting /media/olek/8TB_HDD/metadrive-data/allow-repeat/searches/bayesopt_ucb/multifidelity/19\n",
      "Deleting /media/olek/8TB_HDD/metadrive-data/allow-repeat/searches/bayesopt_ucb/60/13\n",
      "Deleting /media/olek/8TB_HDD/metadrive-data/allow-repeat/searches/bayesopt_ucb/60/12\n",
      "Deleting /media/olek/8TB_HDD/metadrive-data/allow-repeat/searches/bayesopt_ucb/multifidelity/15\n"
     ]
    }
   ],
   "source": [
    "import shutil\n",
    "\n",
    "unfinished = list(all_rep_paths - finished_rep_paths)\n",
    "\n",
    "for unfinished_search in unfinished:\n",
    "    print(f\"Deleting {unfinished_search}\")\n",
    "    shutil.rmtree(unfinished_search)"
   ]
  }
 ],
 "metadata": {
  "kernelspec": {
   "display_name": "metadrive-env",
   "language": "python",
   "name": "python3"
  },
  "language_info": {
   "codemirror_mode": {
    "name": "ipython",
    "version": 3
   },
   "file_extension": ".py",
   "mimetype": "text/x-python",
   "name": "python",
   "nbconvert_exporter": "python",
   "pygments_lexer": "ipython3",
   "version": "3.12.9"
  }
 },
 "nbformat": 4,
 "nbformat_minor": 2
}
