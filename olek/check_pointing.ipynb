{
 "cells": [
  {
   "cell_type": "code",
   "execution_count": 5,
   "metadata": {},
   "outputs": [],
   "source": [
    "from itertools import count, product\n",
    "from pathlib import Path\n",
    "import sys\n",
    "import json"
   ]
  },
  {
   "cell_type": "code",
   "execution_count": 12,
   "metadata": {},
   "outputs": [
    {
     "data": {
      "text/plain": [
       "PosixPath('/media/olek/8TB_HDD/metadrive-data/initialization/5-initialization/searches')"
      ]
     },
     "execution_count": 12,
     "metadata": {},
     "output_type": "execute_result"
    }
   ],
   "source": [
    "DATA_DIR = Path(\"/media/olek/8TB_HDD/metadrive-data\")\n",
    "SEARCH_DIR = DATA_DIR / \"initialization\" / \"5-initialization\" / \"searches\"\n",
    "assert SEARCH_DIR.exists()\n",
    "SEARCH_DIR"
   ]
  },
  {
   "cell_type": "code",
   "execution_count": 13,
   "metadata": {},
   "outputs": [
    {
     "name": "stdout",
     "output_type": "stream",
     "text": [
      "We finished 100 reps.\n"
     ]
    }
   ],
   "source": [
    "checkpoint_file = SEARCH_DIR / \"checkpoints.txt\"\n",
    "\n",
    "\n",
    "if checkpoint_file.exists():\n",
    "    with open(checkpoint_file, \"r\") as f:\n",
    "        checkpoints = f.readlines()\n",
    "    finished_rep_paths = set([Path(rep.split(\" \")[2]) for rep in checkpoints])\n",
    "else:\n",
    "    finished_rep_paths = set()\n",
    "\n",
    "print(f\"We finished {len(finished_rep_paths)} reps.\")"
   ]
  },
  {
   "cell_type": "code",
   "execution_count": 14,
   "metadata": {},
   "outputs": [
    {
     "name": "stdout",
     "output_type": "stream",
     "text": [
      "There are 100 reps path in total\n"
     ]
    }
   ],
   "source": [
    "all_rep_paths = set(SEARCH_DIR.glob(\"*/*/*\"))\n",
    "print(f\"There are {len(all_rep_paths)} reps path in total\")"
   ]
  },
  {
   "cell_type": "code",
   "execution_count": 9,
   "metadata": {},
   "outputs": [
    {
     "data": {
      "text/plain": [
       "[PosixPath('/media/olek/8TB_HDD/metadrive-data/20-initialization/searches/bayesopt_ucb/multifidelity_0.00/40'),\n",
       " PosixPath('/media/olek/8TB_HDD/metadrive-data/20-initialization/searches/bayesopt_ucb/60/41'),\n",
       " PosixPath('/media/olek/8TB_HDD/metadrive-data/20-initialization/searches/bayesopt_ucb/multifidelity_0.00/35'),\n",
       " PosixPath('/media/olek/8TB_HDD/metadrive-data/20-initialization/searches/bayesopt_ucb/multifidelity_0.00/34'),\n",
       " PosixPath('/media/olek/8TB_HDD/metadrive-data/20-initialization/searches/bayesopt_ucb/multifidelity_0.00/33'),\n",
       " PosixPath('/media/olek/8TB_HDD/metadrive-data/20-initialization/searches/bayesopt_ucb/multifidelity_0.00/39'),\n",
       " PosixPath('/media/olek/8TB_HDD/metadrive-data/20-initialization/searches/bayesopt_ucb/multifidelity_0.00/38'),\n",
       " PosixPath('/media/olek/8TB_HDD/metadrive-data/20-initialization/searches/bayesopt_ucb/multifidelity_0.00/36'),\n",
       " PosixPath('/media/olek/8TB_HDD/metadrive-data/20-initialization/searches/bayesopt_ucb/multifidelity_0.00/37'),\n",
       " PosixPath('/media/olek/8TB_HDD/metadrive-data/20-initialization/searches/bayesopt_ucb/60/40')]"
      ]
     },
     "execution_count": 9,
     "metadata": {},
     "output_type": "execute_result"
    }
   ],
   "source": [
    "import shutil\n",
    "\n",
    "unfinished = list(all_rep_paths - finished_rep_paths)\n",
    "unfinished"
   ]
  },
  {
   "cell_type": "code",
   "execution_count": 10,
   "metadata": {},
   "outputs": [
    {
     "name": "stdout",
     "output_type": "stream",
     "text": [
      "Deleting /media/olek/8TB_HDD/metadrive-data/20-initialization/searches/bayesopt_ucb/multifidelity_0.00/40\n",
      "Deleting /media/olek/8TB_HDD/metadrive-data/20-initialization/searches/bayesopt_ucb/60/41\n",
      "Deleting /media/olek/8TB_HDD/metadrive-data/20-initialization/searches/bayesopt_ucb/multifidelity_0.00/35\n",
      "Deleting /media/olek/8TB_HDD/metadrive-data/20-initialization/searches/bayesopt_ucb/multifidelity_0.00/34\n",
      "Deleting /media/olek/8TB_HDD/metadrive-data/20-initialization/searches/bayesopt_ucb/multifidelity_0.00/33\n",
      "Deleting /media/olek/8TB_HDD/metadrive-data/20-initialization/searches/bayesopt_ucb/multifidelity_0.00/39\n",
      "Deleting /media/olek/8TB_HDD/metadrive-data/20-initialization/searches/bayesopt_ucb/multifidelity_0.00/38\n",
      "Deleting /media/olek/8TB_HDD/metadrive-data/20-initialization/searches/bayesopt_ucb/multifidelity_0.00/36\n",
      "Deleting /media/olek/8TB_HDD/metadrive-data/20-initialization/searches/bayesopt_ucb/multifidelity_0.00/37\n",
      "Deleting /media/olek/8TB_HDD/metadrive-data/20-initialization/searches/bayesopt_ucb/60/40\n"
     ]
    }
   ],
   "source": [
    "for unfinished_search in unfinished:\n",
    "    print(f\"Deleting {unfinished_search}\")\n",
    "    shutil.rmtree(unfinished_search)"
   ]
  }
 ],
 "metadata": {
  "kernelspec": {
   "display_name": "metadrive-env",
   "language": "python",
   "name": "python3"
  },
  "language_info": {
   "codemirror_mode": {
    "name": "ipython",
    "version": 3
   },
   "file_extension": ".py",
   "mimetype": "text/x-python",
   "name": "python",
   "nbconvert_exporter": "python",
   "pygments_lexer": "ipython3",
   "version": "3.12.9"
  }
 },
 "nbformat": 4,
 "nbformat_minor": 2
}
