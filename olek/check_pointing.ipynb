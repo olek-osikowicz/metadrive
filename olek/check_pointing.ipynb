{
 "cells": [
  {
   "cell_type": "code",
   "execution_count": 40,
   "metadata": {},
   "outputs": [],
   "source": [
    "from utils.bayesian_optimisation import SEARCH_FIDELITIES, SEARCH_TYPES, HDD_PATH\n",
    "from itertools import count, product\n",
    "from pathlib import Path\n",
    "import sys\n",
    "import json"
   ]
  },
  {
   "cell_type": "code",
   "execution_count": null,
   "metadata": {},
   "outputs": [
    {
     "data": {
      "text/plain": [
       "PosixPath('/media/olek/8TB_HDD/metadrive-data/no-initialization/searches')"
      ]
     },
     "execution_count": 41,
     "metadata": {},
     "output_type": "execute_result"
    }
   ],
   "source": [
    "DATA_DIR = Path(\"/media/olek/8TB_HDD/metadrive-data\")\n",
    "SEARCH_DIR = DATA_DIR / \"small-initialization\" / \"searches\"\n",
    "assert SEARCH_DIR.exists()\n",
    "SEARCH_DIR"
   ]
  },
  {
   "cell_type": "code",
   "execution_count": 42,
   "metadata": {},
   "outputs": [],
   "source": [
    "checkpoint_file = SEARCH_DIR / \"checkpoints.txt\"\n",
    "\n",
    "\n",
    "if checkpoint_file.exists():\n",
    "    with open(checkpoint_file, \"r\") as f:\n",
    "        checkpoints = f.readlines()\n",
    "    finished_rep_paths = set([Path(rep.split(\" \")[2]) for rep in checkpoints])\n",
    "else:\n",
    "    finished_rep_paths = set()"
   ]
  },
  {
   "cell_type": "code",
   "execution_count": 43,
   "metadata": {},
   "outputs": [
    {
     "name": "stdout",
     "output_type": "stream",
     "text": [
      "We finished 0 reps.\n"
     ]
    }
   ],
   "source": [
    "print(f\"We finished {len(finished_rep_paths)} reps.\")"
   ]
  },
  {
   "cell_type": "code",
   "execution_count": 44,
   "metadata": {},
   "outputs": [
    {
     "name": "stdout",
     "output_type": "stream",
     "text": [
      "There are 10 reps path in total\n"
     ]
    }
   ],
   "source": [
    "all_rep_paths = set(SEARCH_DIR.glob(\"*/*/*\"))\n",
    "print(f\"There are {len(all_rep_paths)} reps path in total\")"
   ]
  },
  {
   "cell_type": "code",
   "execution_count": 45,
   "metadata": {},
   "outputs": [
    {
     "data": {
      "text/plain": [
       "[PosixPath('/media/olek/8TB_HDD/metadrive-data/no-initialization/searches/bayesopt_ucb/multifidelity_0.00/1'),\n",
       " PosixPath('/media/olek/8TB_HDD/metadrive-data/no-initialization/searches/bayesopt_ucb/60/0'),\n",
       " PosixPath('/media/olek/8TB_HDD/metadrive-data/no-initialization/searches/bayesopt_ucb/multifidelity_0.00/0'),\n",
       " PosixPath('/media/olek/8TB_HDD/metadrive-data/no-initialization/searches/bayesopt_ucb/multifidelity_0.00/2'),\n",
       " PosixPath('/media/olek/8TB_HDD/metadrive-data/no-initialization/searches/bayesopt_ucb/multifidelity_0.00/3'),\n",
       " PosixPath('/media/olek/8TB_HDD/metadrive-data/no-initialization/searches/bayesopt_ucb/multifidelity_0.00/4'),\n",
       " PosixPath('/media/olek/8TB_HDD/metadrive-data/no-initialization/searches/bayesopt_ucb/60/1'),\n",
       " PosixPath('/media/olek/8TB_HDD/metadrive-data/no-initialization/searches/bayesopt_ucb/60/3'),\n",
       " PosixPath('/media/olek/8TB_HDD/metadrive-data/no-initialization/searches/bayesopt_ucb/60/4'),\n",
       " PosixPath('/media/olek/8TB_HDD/metadrive-data/no-initialization/searches/bayesopt_ucb/60/2')]"
      ]
     },
     "execution_count": 45,
     "metadata": {},
     "output_type": "execute_result"
    }
   ],
   "source": [
    "import shutil\n",
    "\n",
    "unfinished = list(all_rep_paths - finished_rep_paths)\n",
    "unfinished"
   ]
  },
  {
   "cell_type": "code",
   "execution_count": 46,
   "metadata": {},
   "outputs": [
    {
     "name": "stdout",
     "output_type": "stream",
     "text": [
      "Deleting /media/olek/8TB_HDD/metadrive-data/no-initialization/searches/bayesopt_ucb/multifidelity_0.00/1\n",
      "Deleting /media/olek/8TB_HDD/metadrive-data/no-initialization/searches/bayesopt_ucb/60/0\n",
      "Deleting /media/olek/8TB_HDD/metadrive-data/no-initialization/searches/bayesopt_ucb/multifidelity_0.00/0\n",
      "Deleting /media/olek/8TB_HDD/metadrive-data/no-initialization/searches/bayesopt_ucb/multifidelity_0.00/2\n",
      "Deleting /media/olek/8TB_HDD/metadrive-data/no-initialization/searches/bayesopt_ucb/multifidelity_0.00/3\n",
      "Deleting /media/olek/8TB_HDD/metadrive-data/no-initialization/searches/bayesopt_ucb/multifidelity_0.00/4\n",
      "Deleting /media/olek/8TB_HDD/metadrive-data/no-initialization/searches/bayesopt_ucb/60/1\n",
      "Deleting /media/olek/8TB_HDD/metadrive-data/no-initialization/searches/bayesopt_ucb/60/3\n",
      "Deleting /media/olek/8TB_HDD/metadrive-data/no-initialization/searches/bayesopt_ucb/60/4\n",
      "Deleting /media/olek/8TB_HDD/metadrive-data/no-initialization/searches/bayesopt_ucb/60/2\n"
     ]
    }
   ],
   "source": [
    "for unfinished_search in unfinished:\n",
    "    print(f\"Deleting {unfinished_search}\")\n",
    "    shutil.rmtree(unfinished_search)"
   ]
  }
 ],
 "metadata": {
  "kernelspec": {
   "display_name": "metadrive-env",
   "language": "python",
   "name": "python3"
  },
  "language_info": {
   "codemirror_mode": {
    "name": "ipython",
    "version": 3
   },
   "file_extension": ".py",
   "mimetype": "text/x-python",
   "name": "python",
   "nbconvert_exporter": "python",
   "pygments_lexer": "ipython3",
   "version": "3.12.9"
  }
 },
 "nbformat": 4,
 "nbformat_minor": 2
}
