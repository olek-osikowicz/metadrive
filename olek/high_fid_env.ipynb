{
 "cells": [
  {
   "cell_type": "code",
   "execution_count": null,
   "metadata": {},
   "outputs": [],
   "source": [
    "from metadrive.envs.metadrive_env import MetaDriveEnv\n",
    "from metadrive.manager.traffic_manager import PGTrafficManager\n",
    "from metadrive.manager.pg_map_manager import PGMapManager\n",
    "from metadrive.utils.config import Config\n",
    "from metadrive.examples.ppo_expert.torch_expert import torch_expert as expert\n",
    "from metadrive.component.map.base_map import BaseMap\n",
    "from metadrive.component.map.pg_map import MapGenerateMethod\n",
    "from metadrive.engine.logger import get_logger\n",
    "\n",
    "import logging\n",
    "import mediapy\n",
    "from utils.scenario_runner import ScenarioRunner\n",
    "from pathlib import Path\n",
    "import numpy as np\n",
    "\n",
    "log = get_logger()"
   ]
  },
  {
   "cell_type": "code",
   "execution_count": null,
   "metadata": {},
   "outputs": [],
   "source": [
    "def get_default_config() -> dict:\n",
    "\n",
    "    # ===== Termination Scheme =====\n",
    "    termination_sceme = dict(\n",
    "        out_of_route_done=False,\n",
    "        on_continuous_line_done=False,\n",
    "        crash_vehicle_done=False,\n",
    "        crash_object_done=False,\n",
    "        crash_human_done=False,\n",
    "    )\n",
    "    # ===== Map Config =====\n",
    "    map_config = {\n",
    "        BaseMap.GENERATE_TYPE: MapGenerateMethod.BIG_BLOCK_NUM,\n",
    "        BaseMap.GENERATE_CONFIG: 3,  # 20 block\n",
    "    }\n",
    "\n",
    "    return dict(\n",
    "        # use_render=True,\n",
    "        log_level=logging.INFO,  # logging.DEBUG\n",
    "        traffic_density=0.05,\n",
    "        traffic_mode=\"respawn\",\n",
    "        random_traffic=False,\n",
    "        decision_repeat=1,\n",
    "        map_config=map_config,\n",
    "        **termination_sceme,\n",
    "    )"
   ]
  },
  {
   "cell_type": "code",
   "execution_count": null,
   "metadata": {},
   "outputs": [],
   "source": [
    "class MultiFidelityTrafficManager(PGTrafficManager):\n",
    "    def __init__(self):\n",
    "        super().__init__()\n",
    "        self.skip_counter = 0\n",
    "        self.dr = self.global_config[\"decision_repeat\"]\n",
    "        self.dt = self.global_config[\"physics_world_step_size\"]\n",
    "        self.fps = 1 / (self.dr * self.dt)\n",
    "        self.skip_limit = self.fps // 10\n",
    "\n",
    "        log.info(\n",
    "            f\"Fidelity parameters in {self.__class__.__name__}: dr={self.dr}, dt={self.dt}, fps={self.fps}, skip={self.skip_limit}\"\n",
    "        )\n",
    "\n",
    "    def before_step(self):\n",
    "        \"\"\"\n",
    "        All traffic vehicles make driving decision here\n",
    "        :return: None\n",
    "        \"\"\"\n",
    "        # trigger vehicles\n",
    "        assert self.mode == \"respawn\", \"Currently only respawn is supported\"\n",
    "\n",
    "        log.info(\n",
    "            f\"Entering before step, skip_counter={self.skip_counter}, skip_limit={self.skip_limit}\"\n",
    "        )\n",
    "\n",
    "        if self.skip_counter == 0:\n",
    "            log.info(f\"Setting BV policy\")\n",
    "            self.set_bv_policy()\n",
    "\n",
    "        self.skip_counter += 1\n",
    "        self.skip_counter %= self.skip_limit\n",
    "\n",
    "        return dict()\n",
    "\n",
    "    def set_bv_policy(self):\n",
    "        for v in self._traffic_vehicles:\n",
    "            p = self.engine.get_policy(v.name)\n",
    "            v.before_step(p.act())"
   ]
  },
  {
   "cell_type": "code",
   "execution_count": null,
   "metadata": {},
   "outputs": [],
   "source": [
    "class MultiFidelityEnv(MetaDriveEnv):\n",
    "\n",
    "    def __init__(self, fps=10, seed=0, config=dict()):\n",
    "        self.fps = fps\n",
    "        config = config | {\"start_seed\": seed} | get_default_config()\n",
    "        super(MultiFidelityEnv, self).__init__(config)\n",
    "\n",
    "    def _post_process_config(self, config):\n",
    "        config = super(MultiFidelityEnv, self)._post_process_config(config)\n",
    "        config[\"physics_world_step_size\"] = 1 / self.fps / config[\"decision_repeat\"]\n",
    "\n",
    "        return config\n",
    "\n",
    "    def get_horizon(self):\n",
    "        distance = self.agent.navigation.total_length\n",
    "        V_min = 2.0  # [m/s]  # set minimal velocity to 2m/s\n",
    "        max_time = distance / V_min  # [s] maximum time allowed to reach the destination\n",
    "        max_steps = round(max_time * self.fps)  # maximum number of simulation steps frames\n",
    "        return max_steps\n",
    "\n",
    "    def setup_engine(self):\n",
    "        super(MetaDriveEnv, self).setup_engine()\n",
    "        self.engine.register_manager(\"map_manager\", PGMapManager())\n",
    "        self.engine.register_manager(\"traffic_manager\", MultiFidelityTrafficManager())"
   ]
  },
  {
   "cell_type": "code",
   "execution_count": null,
   "metadata": {},
   "outputs": [],
   "source": [
    "env = MultiFidelityEnv(fps=20, seed=10)\n",
    "c = env.config\n",
    "dt = env.config[\"physics_world_step_size\"]\n",
    "dr = c[\"decision_repeat\"]\n",
    "assert 1 / (dr * dt) == env.fps\n",
    "log.info(f\"Fidelity: {env.fps=} {dr=} {dt=:.2g}\")"
   ]
  },
  {
   "cell_type": "code",
   "execution_count": null,
   "metadata": {},
   "outputs": [],
   "source": [
    "_, reset_info = env.reset()"
   ]
  },
  {
   "cell_type": "code",
   "execution_count": null,
   "metadata": {},
   "outputs": [],
   "source": [
    "action = expert(env.agent, deterministic=True)\n",
    "obs, reward, terminated, truncated, info = env.step(action)"
   ]
  },
  {
   "cell_type": "code",
   "execution_count": null,
   "metadata": {},
   "outputs": [],
   "source": [
    "env.close()"
   ]
  },
  {
   "cell_type": "code",
   "execution_count": null,
   "metadata": {},
   "outputs": [],
   "source": [
    "def get_frames(fps):\n",
    "    env = MultiFidelityEnv(fps, seed=1)\n",
    "    _, reset_info = env.reset()\n",
    "    frames = []\n",
    "    for i in range(6000):\n",
    "        action = expert(env.agent, deterministic=True)\n",
    "        obs, reward, terminated, truncated, info = env.step(action)\n",
    "\n",
    "        b_box = env.current_map.road_network.get_bounding_box()\n",
    "        x_len = b_box[1] - b_box[0]\n",
    "        y_len = b_box[3] - b_box[2]\n",
    "        scaling = 3\n",
    "        frame = env.render(\n",
    "            mode=\"topdown\",\n",
    "            window=False,\n",
    "            # screen_size=(1080 // 2, 1920 // 2),\n",
    "            screen_size=(x_len * scaling * 1.05, y_len * scaling * 1.05),\n",
    "            camera_position=env.current_map.get_center_point(),\n",
    "            scaling=scaling,\n",
    "            draw_contour=True,\n",
    "            num_stack=1,\n",
    "            # screen_record=True,\n",
    "        )\n",
    "        frames.append(frame)\n",
    "        if terminated or truncated:\n",
    "            break\n",
    "    env.close()\n",
    "    return frames"
   ]
  },
  {
   "cell_type": "code",
   "execution_count": null,
   "metadata": {},
   "outputs": [],
   "source": [
    "frames_a = get_frames(10)\n",
    "frames_b = get_frames(20)"
   ]
  },
  {
   "cell_type": "code",
   "execution_count": null,
   "metadata": {},
   "outputs": [],
   "source": [
    "mediapy.set_show_save_dir(\"data\")\n",
    "\n",
    "mediapy.show_videos([frames_a, frames_b[::2]], titles=[\"10FPS\", \"20FPS\"], fps=10)\n",
    "# mediapy.show_videos([frames_a, frames_b], titles=[\"First run\", \"Second run\"], fps=10)"
   ]
  },
  {
   "cell_type": "code",
   "execution_count": null,
   "metadata": {},
   "outputs": [],
   "source": [
    "env = MultiFidelityEnv(10)"
   ]
  },
  {
   "cell_type": "code",
   "execution_count": null,
   "metadata": {},
   "outputs": [],
   "source": [
    "_ = env.reset()\n",
    "action = expert(env.agent, deterministic=True)\n",
    "obs, reward, terminated, truncated, info = env.step(action)"
   ]
  },
  {
   "cell_type": "code",
   "execution_count": null,
   "metadata": {},
   "outputs": [],
   "source": [
    "# env.current_map.get_meta_data()\n",
    "# env.engine.traffic_manager._traffic_vehicles"
   ]
  },
  {
   "cell_type": "code",
   "execution_count": null,
   "metadata": {},
   "outputs": [],
   "source": []
  }
 ],
 "metadata": {
  "kernelspec": {
   "display_name": "metadrive-env",
   "language": "python",
   "name": "python3"
  },
  "language_info": {
   "codemirror_mode": {
    "name": "ipython",
    "version": 3
   },
   "file_extension": ".py",
   "mimetype": "text/x-python",
   "name": "python",
   "nbconvert_exporter": "python",
   "pygments_lexer": "ipython3",
   "version": "3.12.9"
  }
 },
 "nbformat": 4,
 "nbformat_minor": 2
}
